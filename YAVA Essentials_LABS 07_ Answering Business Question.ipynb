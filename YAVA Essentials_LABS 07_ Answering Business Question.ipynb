{
  "nbformat": 4,
  "nbformat_minor": 0,
  "metadata": {
    "colab": {
      "name": "LAB07: Answering Business Question",
      "provenance": [],
      "collapsed_sections": []
    },
    "kernelspec": {
      "name": "python3",
      "display_name": "Python 3"
    }
  },
  "cells": [
    {
      "cell_type": "markdown",
      "metadata": {
        "id": "lMvzzpeh43Qn",
        "colab_type": "text"
      },
      "source": [
        "# LAB07: Answering Business Question"
      ]
    },
    {
      "cell_type": "markdown",
      "metadata": {
        "id": "EkYhcyUW5EJ5",
        "colab_type": "text"
      },
      "source": [
        "### Apache Spark Preparation"
      ]
    },
    {
      "cell_type": "code",
      "metadata": {
        "id": "Js4bz3WEOkLa",
        "colab_type": "code",
        "colab": {}
      },
      "source": [
        "!apt-get install openjdk-8-jdk-headless -qq > /dev/null\n",
        "!wget -q https://www-us.apache.org/dist/spark/spark-2.4.5/spark-2.4.5-bin-hadoop2.7.tgz \n",
        "!tar xf spark-2.4.5-bin-hadoop2.7.tgz\n",
        "!pip install -q findspark"
      ],
      "execution_count": 0,
      "outputs": []
    },
    {
      "cell_type": "code",
      "metadata": {
        "id": "yl0XedtETmoL",
        "colab_type": "code",
        "colab": {}
      },
      "source": [
        "import os\n",
        "os.environ[\"JAVA_HOME\"] = \"/usr/lib/jvm/java-8-openjdk-amd64\"\n",
        "os.environ[\"SPARK_HOME\"] = \"/content/spark-2.4.5-bin-hadoop2.7\""
      ],
      "execution_count": 0,
      "outputs": []
    },
    {
      "cell_type": "code",
      "metadata": {
        "id": "rmRp__GoTtgo",
        "colab_type": "code",
        "colab": {}
      },
      "source": [
        "import findspark\n",
        "findspark.init()\n",
        "from pyspark.sql import SparkSession\n",
        "spark = SparkSession.builder.master(\"local[*]\").getOrCreate()"
      ],
      "execution_count": 0,
      "outputs": []
    },
    {
      "cell_type": "markdown",
      "metadata": {
        "id": "sHcW_EPPTwJl",
        "colab_type": "text"
      },
      "source": [
        "### Download stg_youtube"
      ]
    },
    {
      "cell_type": "code",
      "metadata": {
        "id": "phS_ERHYTws_",
        "colab_type": "code",
        "outputId": "bf3ab679-0830-4965-b896-397a495c9f36",
        "colab": {
          "base_uri": "https://localhost:8080/",
          "height": 400
        }
      },
      "source": [
        "!wget https://www.dropbox.com/s/i2rjdae18k8fd0j/stg_youtube.csv "
      ],
      "execution_count": 6,
      "outputs": [
        {
          "output_type": "stream",
          "text": [
            "--2020-03-12 13:20:12--  https://www.dropbox.com/s/i2rjdae18k8fd0j/stg_youtube.csv\n",
            "Resolving www.dropbox.com (www.dropbox.com)... 162.125.8.1, 2620:100:6016:1::a27d:101\n",
            "Connecting to www.dropbox.com (www.dropbox.com)|162.125.8.1|:443... connected.\n",
            "HTTP request sent, awaiting response... 301 Moved Permanently\n",
            "Location: /s/raw/i2rjdae18k8fd0j/stg_youtube.csv [following]\n",
            "--2020-03-12 13:20:12--  https://www.dropbox.com/s/raw/i2rjdae18k8fd0j/stg_youtube.csv\n",
            "Reusing existing connection to www.dropbox.com:443.\n",
            "HTTP request sent, awaiting response... 302 Found\n",
            "Location: https://ucf5090248935fff2fdadee74a9a.dl.dropboxusercontent.com/cd/0/inline/AzzrPoPAJiioSDbDI55m_k2KGtI4p8-7dPZCTguUoWkBocqusZyREqQ_1eiwS6TiEtK7YzNfCmMVWRYCi__iTfURQwqdBelx_nyA2JANLCE4Hth_q7D5nAVKsJUVqxA4JUg/file# [following]\n",
            "--2020-03-12 13:20:12--  https://ucf5090248935fff2fdadee74a9a.dl.dropboxusercontent.com/cd/0/inline/AzzrPoPAJiioSDbDI55m_k2KGtI4p8-7dPZCTguUoWkBocqusZyREqQ_1eiwS6TiEtK7YzNfCmMVWRYCi__iTfURQwqdBelx_nyA2JANLCE4Hth_q7D5nAVKsJUVqxA4JUg/file\n",
            "Resolving ucf5090248935fff2fdadee74a9a.dl.dropboxusercontent.com (ucf5090248935fff2fdadee74a9a.dl.dropboxusercontent.com)... 162.125.1.6, 2620:100:6016:6::a27d:106\n",
            "Connecting to ucf5090248935fff2fdadee74a9a.dl.dropboxusercontent.com (ucf5090248935fff2fdadee74a9a.dl.dropboxusercontent.com)|162.125.1.6|:443... connected.\n",
            "HTTP request sent, awaiting response... 200 OK\n",
            "Length: 16853838 (16M) [text/plain]\n",
            "Saving to: ‘stg_youtube.csv’\n",
            "\n",
            "\rstg_youtube.csv       0%[                    ]       0  --.-KB/s               \rstg_youtube.csv      54%[=========>          ]   8.80M  44.0MB/s               \rstg_youtube.csv     100%[===================>]  16.07M  43.4MB/s    in 0.4s    \n",
            "\n",
            "2020-03-12 13:20:13 (43.4 MB/s) - ‘stg_youtube.csv’ saved [16853838/16853838]\n",
            "\n"
          ],
          "name": "stdout"
        }
      ]
    },
    {
      "cell_type": "code",
      "metadata": {
        "id": "wXJ3zX675nTs",
        "colab_type": "code",
        "colab": {
          "base_uri": "https://localhost:8080/",
          "height": 53
        },
        "outputId": "793e09bb-665c-4ed3-a938-507cdd766d45"
      },
      "source": [
        "!ls"
      ],
      "execution_count": 7,
      "outputs": [
        {
          "output_type": "stream",
          "text": [
            "sample_data\t\t   spark-2.4.5-bin-hadoop2.7.tgz\n",
            "spark-2.4.5-bin-hadoop2.7  stg_youtube.csv\n"
          ],
          "name": "stdout"
        }
      ]
    },
    {
      "cell_type": "markdown",
      "metadata": {
        "id": "owMwpVAV5ftR",
        "colab_type": "text"
      },
      "source": [
        "### Download video_category"
      ]
    },
    {
      "cell_type": "code",
      "metadata": {
        "id": "lorDtGUl5k98",
        "colab_type": "code",
        "colab": {
          "base_uri": "https://localhost:8080/",
          "height": 473
        },
        "outputId": "4c7c9b40-f267-4078-a97c-014e96579c91"
      },
      "source": [
        "!wget https://www.dropbox.com/s/b7wut6mj9wpfyi1/video_category.dat"
      ],
      "execution_count": 8,
      "outputs": [
        {
          "output_type": "stream",
          "text": [
            "--2020-03-12 13:20:56--  https://www.dropbox.com/s/b7wut6mj9wpfyi1/video_category.dat\n",
            "Resolving www.dropbox.com (www.dropbox.com)... 162.125.1.1, 2620:100:601b:1::a27d:801\n",
            "Connecting to www.dropbox.com (www.dropbox.com)|162.125.1.1|:443... connected.\n",
            "HTTP request sent, awaiting response... 301 Moved Permanently\n",
            "Location: /s/raw/b7wut6mj9wpfyi1/video_category.dat [following]\n",
            "--2020-03-12 13:20:56--  https://www.dropbox.com/s/raw/b7wut6mj9wpfyi1/video_category.dat\n",
            "Reusing existing connection to www.dropbox.com:443.\n",
            "HTTP request sent, awaiting response... 302 Found\n",
            "Location: https://uca0d68ef9fa8f56e41c194edaf7.dl.dropboxusercontent.com/cd/0/inline/AzxGnvZV1_oxuQbnphgB-eciV1kc_wWZ7NFjO9cLc4A8VLTjgcAeSvd-H-Mm1XjS2UakK4SXxfcctllmxuzaBsbZKoJArn-zBzLB-C9iBTCTaRF3G8rS40l_GJJdkTfyTnY/file# [following]\n",
            "--2020-03-12 13:20:56--  https://uca0d68ef9fa8f56e41c194edaf7.dl.dropboxusercontent.com/cd/0/inline/AzxGnvZV1_oxuQbnphgB-eciV1kc_wWZ7NFjO9cLc4A8VLTjgcAeSvd-H-Mm1XjS2UakK4SXxfcctllmxuzaBsbZKoJArn-zBzLB-C9iBTCTaRF3G8rS40l_GJJdkTfyTnY/file\n",
            "Resolving uca0d68ef9fa8f56e41c194edaf7.dl.dropboxusercontent.com (uca0d68ef9fa8f56e41c194edaf7.dl.dropboxusercontent.com)... 162.125.1.6, 2620:100:601b:6::a27d:806\n",
            "Connecting to uca0d68ef9fa8f56e41c194edaf7.dl.dropboxusercontent.com (uca0d68ef9fa8f56e41c194edaf7.dl.dropboxusercontent.com)|162.125.1.6|:443... connected.\n",
            "HTTP request sent, awaiting response... 302 FOUND\n",
            "Location: /cd/0/inline2/AzzWi5mz9Xjo_snPPr-rYr5XhwaiK3907wtX_IpzuStcTpZoQYjeWHqTkfrZVdHeTd7FmA3K14HpxxpMmmDlLJHRQ0GSHgsp-bCGIWm5el3cCCWubxZyw_8rkeSt94VL3jrkDlv11-AKMfigEC8VFOpVAKKLO9qkprEAfsAYLwLC7TcPUFQ2M3SlvUHYt5DYAxdNA2pHdN56YWU-eDYSfpWSg74kUBK9flh56c5thPAivUcK9Cn7uMKY1k2yHJnlSpv95xwofhZlcSHuPaZUabwXB3hZU5K3Pcm-NTsNqOoY-fbtaNoJdxTwNXha4yvcGfuwWi_DYKSB7xoJnaYyyzhaIx2n5n_OjYAuyArndsz-Uw/file [following]\n",
            "--2020-03-12 13:20:57--  https://uca0d68ef9fa8f56e41c194edaf7.dl.dropboxusercontent.com/cd/0/inline2/AzzWi5mz9Xjo_snPPr-rYr5XhwaiK3907wtX_IpzuStcTpZoQYjeWHqTkfrZVdHeTd7FmA3K14HpxxpMmmDlLJHRQ0GSHgsp-bCGIWm5el3cCCWubxZyw_8rkeSt94VL3jrkDlv11-AKMfigEC8VFOpVAKKLO9qkprEAfsAYLwLC7TcPUFQ2M3SlvUHYt5DYAxdNA2pHdN56YWU-eDYSfpWSg74kUBK9flh56c5thPAivUcK9Cn7uMKY1k2yHJnlSpv95xwofhZlcSHuPaZUabwXB3hZU5K3Pcm-NTsNqOoY-fbtaNoJdxTwNXha4yvcGfuwWi_DYKSB7xoJnaYyyzhaIx2n5n_OjYAuyArndsz-Uw/file\n",
            "Reusing existing connection to uca0d68ef9fa8f56e41c194edaf7.dl.dropboxusercontent.com:443.\n",
            "HTTP request sent, awaiting response... 200 OK\n",
            "Length: 625 [application/x-ns-proxy-autoconfig]\n",
            "Saving to: ‘video_category.dat’\n",
            "\n",
            "\rvideo_category.dat    0%[                    ]       0  --.-KB/s               \rvideo_category.dat  100%[===================>]     625  --.-KB/s    in 0s      \n",
            "\n",
            "2020-03-12 13:20:57 (133 MB/s) - ‘video_category.dat’ saved [625/625]\n",
            "\n"
          ],
          "name": "stdout"
        }
      ]
    },
    {
      "cell_type": "code",
      "metadata": {
        "id": "Dy7V94mE59sr",
        "colab_type": "code",
        "colab": {
          "base_uri": "https://localhost:8080/",
          "height": 53
        },
        "outputId": "3e1f6f85-dfc7-4036-d0d5-d4106bd67e21"
      },
      "source": [
        "!ls"
      ],
      "execution_count": 9,
      "outputs": [
        {
          "output_type": "stream",
          "text": [
            "sample_data\t\t   spark-2.4.5-bin-hadoop2.7.tgz  video_category.dat\n",
            "spark-2.4.5-bin-hadoop2.7  stg_youtube.csv\n"
          ],
          "name": "stdout"
        }
      ]
    },
    {
      "cell_type": "markdown",
      "metadata": {
        "id": "732rT9rs6F8M",
        "colab_type": "text"
      },
      "source": [
        "### Get SPARK Version"
      ]
    },
    {
      "cell_type": "code",
      "metadata": {
        "id": "nxk0bo7k6ILC",
        "colab_type": "code",
        "colab": {
          "base_uri": "https://localhost:8080/",
          "height": 35
        },
        "outputId": "b4bcd1f1-c9f5-485c-f369-f233edbd82e4"
      },
      "source": [
        "print(\"Spark version : \" + spark.version)"
      ],
      "execution_count": 10,
      "outputs": [
        {
          "output_type": "stream",
          "text": [
            "Spark version : 2.4.5\n"
          ],
          "name": "stdout"
        }
      ]
    },
    {
      "cell_type": "code",
      "metadata": {
        "id": "mtWx6wEP6MXS",
        "colab_type": "code",
        "colab": {
          "base_uri": "https://localhost:8080/",
          "height": 53
        },
        "outputId": "a2fb74d9-4219-4020-c155-519d74eb1480"
      },
      "source": [
        "import sys\n",
        "print(\"Python version : \" + sys.version)"
      ],
      "execution_count": 11,
      "outputs": [
        {
          "output_type": "stream",
          "text": [
            "Python version : 3.6.9 (default, Nov  7 2019, 10:44:02) \n",
            "[GCC 8.3.0]\n"
          ],
          "name": "stdout"
        }
      ]
    },
    {
      "cell_type": "markdown",
      "metadata": {
        "id": "PJzlCfjR6SJ6",
        "colab_type": "text"
      },
      "source": [
        "### Test SPARK"
      ]
    },
    {
      "cell_type": "code",
      "metadata": {
        "id": "clBZSN2d6bk4",
        "colab_type": "code",
        "colab": {
          "base_uri": "https://localhost:8080/",
          "height": 35
        },
        "outputId": "66f8ec37-0503-4110-c380-89ca229b2ed5"
      },
      "source": [
        "from pyspark.context import SparkContext\n",
        "import random\n",
        "\n",
        "sc = SparkContext.getOrCreate()\n",
        "def inside(p):\n",
        "    x, y = random.random(), random.random()\n",
        "    return x*x + y*y < 1\n",
        "\n",
        "NUM_SAMPLES =100000\n",
        "count = sc.parallelize(range(0, NUM_SAMPLES)) \\\n",
        "             .filter(inside).count()\n",
        "\n",
        "print (\"Pi is roughly \" + str((4.0 * count / NUM_SAMPLES)))"
      ],
      "execution_count": 14,
      "outputs": [
        {
          "output_type": "stream",
          "text": [
            "Pi is roughly 3.14856\n"
          ],
          "name": "stdout"
        }
      ]
    },
    {
      "cell_type": "markdown",
      "metadata": {
        "id": "xSmgcEIx6Rxm",
        "colab_type": "text"
      },
      "source": [
        ""
      ]
    },
    {
      "cell_type": "markdown",
      "metadata": {
        "id": "_s-HVEXk9G5N",
        "colab_type": "text"
      },
      "source": [
        "### Read youtube dataset and converted into SPARK dataframe"
      ]
    },
    {
      "cell_type": "code",
      "metadata": {
        "id": "LosuWZbJ9_OP",
        "colab_type": "code",
        "colab": {
          "base_uri": "https://localhost:8080/",
          "height": 199
        },
        "outputId": "4152160f-0644-4d3b-97e2-9a8971e2cb58"
      },
      "source": [
        "from pyspark.sql.types import *\n",
        "\n",
        "file_path = \"stg_youtube.csv\"\n",
        "youtube_schema=StructType([\n",
        "    StructField(\"video_id\", StringType(), True),\n",
        "    StructField(\"trending_date\", IntegerType(), True),\n",
        "    StructField(\"title\", StringType(), True),\n",
        "    StructField(\"channel_title\", StringType(), True),\n",
        "    StructField(\"category_id\", IntegerType(), True),\n",
        "    StructField(\"publish_time\", StringType(), True),\n",
        "    StructField(\"tags\", StringType(), True),\n",
        "    StructField(\"views\", IntegerType(), True),\n",
        "    StructField(\"likes\", IntegerType(), True),\n",
        "    StructField(\"dislikes\", IntegerType(), True),\n",
        "    StructField(\"comment_count\", IntegerType(), True)\n",
        "])\n",
        "\n",
        "\n",
        "df_youtube = spark.read \\\n",
        " .option(\"delimiter\", \"\\t\") \\\n",
        " .schema(youtube_schema) \\\n",
        " .option(\"inferSchema\", \"True\") \\\n",
        " .csv(file_path)\n",
        "\n",
        "print (\"Total Records: \" + str( df_youtube.count()))\n",
        "df_youtube.show(3, truncate=True)"
      ],
      "execution_count": 15,
      "outputs": [
        {
          "output_type": "stream",
          "text": [
            "Total Records: 40949\n",
            "+-----------+-------------+--------------------+---------------+-----------+--------------------+--------------------+-------+------+--------+-------------+\n",
            "|   video_id|trending_date|               title|  channel_title|category_id|        publish_time|                tags|  views| likes|dislikes|comment_count|\n",
            "+-----------+-------------+--------------------+---------------+-----------+--------------------+--------------------+-------+------+--------+-------------+\n",
            "|2kyS6SvSYSE|       171114|WE WANT TO TALK A...|   CaseyNeistat|         22|2017-11-13T17:13:...|     SHANtell martin| 748374| 57527|    2966|        15954|\n",
            "|1ZAPwfrtAFY|       171114|The Trump Preside...|LastWeekTonight|         24|2017-11-13T07:30:...|last week tonight...|2418783| 97185|    6146|        12703|\n",
            "|5qpjK5DgCt4|       171114|Racist Superman |...|   Rudy Mancuso|         23|2017-11-12T19:05:...|racist superman\"|...|3191434|146033|    5339|         8181|\n",
            "+-----------+-------------+--------------------+---------------+-----------+--------------------+--------------------+-------+------+--------+-------------+\n",
            "only showing top 3 rows\n",
            "\n"
          ],
          "name": "stdout"
        }
      ]
    },
    {
      "cell_type": "code",
      "metadata": {
        "id": "BpYdS5GN-XQq",
        "colab_type": "code",
        "colab": {
          "base_uri": "https://localhost:8080/",
          "height": 235
        },
        "outputId": "43efc5f9-0f7a-4cd9-f3e7-f90f4e86920e"
      },
      "source": [
        "file_path = \"video_category.dat\"\n",
        "youtube_vd_cat_schema=StructType([\n",
        "    StructField(\"category_id\", IntegerType(), True),\n",
        "    StructField(\"category_name\", StringType(), True),\n",
        "])\n",
        "\n",
        "\n",
        "youtube_video_cat = spark.read \\\n",
        " .option(\"delimiter\", \"|\") \\\n",
        " .schema(youtube_vd_cat_schema) \\\n",
        " .option(\"inferSchema\", \"True\") \\\n",
        " .csv(file_path)\n",
        "\n",
        "print (\"Total Records: \" + str( youtube_video_cat.count()))\n",
        "youtube_video_cat.show(5, truncate=True)"
      ],
      "execution_count": 16,
      "outputs": [
        {
          "output_type": "stream",
          "text": [
            "Total Records: 32\n",
            "+-----------+----------------+\n",
            "|category_id|   category_name|\n",
            "+-----------+----------------+\n",
            "|          1|Film & Animation|\n",
            "|          2|Autos & Vehicles|\n",
            "|         10|           Music|\n",
            "|         15|  Pets & Animals|\n",
            "|         17|          Sports|\n",
            "+-----------+----------------+\n",
            "only showing top 5 rows\n",
            "\n"
          ],
          "name": "stdout"
        }
      ]
    },
    {
      "cell_type": "code",
      "metadata": {
        "id": "tjM_4q4C-iSs",
        "colab_type": "code",
        "colab": {
          "base_uri": "https://localhost:8080/",
          "height": 253
        },
        "outputId": "c05e3377-c2fb-438b-d6f9-f43da7259c9c"
      },
      "source": [
        "df_youtube.printSchema()"
      ],
      "execution_count": 17,
      "outputs": [
        {
          "output_type": "stream",
          "text": [
            "root\n",
            " |-- video_id: string (nullable = true)\n",
            " |-- trending_date: integer (nullable = true)\n",
            " |-- title: string (nullable = true)\n",
            " |-- channel_title: string (nullable = true)\n",
            " |-- category_id: integer (nullable = true)\n",
            " |-- publish_time: string (nullable = true)\n",
            " |-- tags: string (nullable = true)\n",
            " |-- views: integer (nullable = true)\n",
            " |-- likes: integer (nullable = true)\n",
            " |-- dislikes: integer (nullable = true)\n",
            " |-- comment_count: integer (nullable = true)\n",
            "\n"
          ],
          "name": "stdout"
        }
      ]
    },
    {
      "cell_type": "markdown",
      "metadata": {
        "id": "0A8jpvou9928",
        "colab_type": "text"
      },
      "source": [
        "### SELECT * FROM youtube LIMIT 10"
      ]
    },
    {
      "cell_type": "code",
      "metadata": {
        "id": "rbDuCKDz-sJ3",
        "colab_type": "code",
        "colab": {
          "base_uri": "https://localhost:8080/",
          "height": 217
        },
        "outputId": "f85361b2-2cfc-452a-d12f-64a580a3f403"
      },
      "source": [
        "df_youtube.show(5, truncate=True)"
      ],
      "execution_count": 18,
      "outputs": [
        {
          "output_type": "stream",
          "text": [
            "+-----------+-------------+--------------------+--------------------+-----------+--------------------+--------------------+-------+------+--------+-------------+\n",
            "|   video_id|trending_date|               title|       channel_title|category_id|        publish_time|                tags|  views| likes|dislikes|comment_count|\n",
            "+-----------+-------------+--------------------+--------------------+-----------+--------------------+--------------------+-------+------+--------+-------------+\n",
            "|2kyS6SvSYSE|       171114|WE WANT TO TALK A...|        CaseyNeistat|         22|2017-11-13T17:13:...|     SHANtell martin| 748374| 57527|    2966|        15954|\n",
            "|1ZAPwfrtAFY|       171114|The Trump Preside...|     LastWeekTonight|         24|2017-11-13T07:30:...|last week tonight...|2418783| 97185|    6146|        12703|\n",
            "|5qpjK5DgCt4|       171114|Racist Superman |...|        Rudy Mancuso|         23|2017-11-12T19:05:...|racist superman\"|...|3191434|146033|    5339|         8181|\n",
            "|puqaWrEC7tY|       171114|Nickelback Lyrics...|Good Mythical Mor...|         24|2017-11-13T11:00:...|rhett and link\"|\"...| 343168| 10172|     666|         2146|\n",
            "|d380meD0W0M|       171114|I Dare You: GOING...|            nigahiga|         24|2017-11-12T18:01:...|ryan\"|\"higa\"|\"hig...|2095731|132235|    1989|        17518|\n",
            "+-----------+-------------+--------------------+--------------------+-----------+--------------------+--------------------+-------+------+--------+-------------+\n",
            "only showing top 5 rows\n",
            "\n"
          ],
          "name": "stdout"
        }
      ]
    },
    {
      "cell_type": "markdown",
      "metadata": {
        "id": "2vTGXMwL99WV",
        "colab_type": "text"
      },
      "source": [
        "### Join table"
      ]
    },
    {
      "cell_type": "code",
      "metadata": {
        "id": "AqEJuX06_OwP",
        "colab_type": "code",
        "colab": {
          "base_uri": "https://localhost:8080/",
          "height": 237
        },
        "outputId": "0565bfb5-eb04-4608-d108-354c64123aea"
      },
      "source": [
        "df_youtube_full = df_youtube.join(youtube_video_cat, on=['category_id'], how='inner')\n",
        "\n",
        "df_youtube_full.show(5)"
      ],
      "execution_count": 19,
      "outputs": [
        {
          "output_type": "stream",
          "text": [
            "+-----------+-----------+-------------+--------------------+--------------------+--------------------+--------------------+-------+------+--------+-------------+--------------+\n",
            "|category_id|   video_id|trending_date|               title|       channel_title|        publish_time|                tags|  views| likes|dislikes|comment_count| category_name|\n",
            "+-----------+-----------+-------------+--------------------+--------------------+--------------------+--------------------+-------+------+--------+-------------+--------------+\n",
            "|         22|2kyS6SvSYSE|       171114|WE WANT TO TALK A...|        CaseyNeistat|2017-11-13T17:13:...|     SHANtell martin| 748374| 57527|    2966|        15954|People & Blogs|\n",
            "|         24|1ZAPwfrtAFY|       171114|The Trump Preside...|     LastWeekTonight|2017-11-13T07:30:...|last week tonight...|2418783| 97185|    6146|        12703| Entertainment|\n",
            "|         23|5qpjK5DgCt4|       171114|Racist Superman |...|        Rudy Mancuso|2017-11-12T19:05:...|racist superman\"|...|3191434|146033|    5339|         8181|        Comedy|\n",
            "|         24|puqaWrEC7tY|       171114|Nickelback Lyrics...|Good Mythical Mor...|2017-11-13T11:00:...|rhett and link\"|\"...| 343168| 10172|     666|         2146| Entertainment|\n",
            "|         24|d380meD0W0M|       171114|I Dare You: GOING...|            nigahiga|2017-11-12T18:01:...|ryan\"|\"higa\"|\"hig...|2095731|132235|    1989|        17518| Entertainment|\n",
            "+-----------+-----------+-------------+--------------------+--------------------+--------------------+--------------------+-------+------+--------+-------------+--------------+\n",
            "only showing top 5 rows\n",
            "\n"
          ],
          "name": "stdout"
        }
      ]
    },
    {
      "cell_type": "code",
      "metadata": {
        "id": "txn0YAgK_XyF",
        "colab_type": "code",
        "colab": {
          "base_uri": "https://localhost:8080/",
          "height": 53
        },
        "outputId": "e73d9c5a-0e82-46f0-b8bc-c0515b3dc001"
      },
      "source": [
        "print (\"Total Records: \" + str( df_youtube.count()))\n",
        "print(\"Number of Columns: \" + str(len(df_youtube.columns)))"
      ],
      "execution_count": 20,
      "outputs": [
        {
          "output_type": "stream",
          "text": [
            "Total Records: 40949\n",
            "Number of Columns: 11\n"
          ],
          "name": "stdout"
        }
      ]
    },
    {
      "cell_type": "code",
      "metadata": {
        "id": "aHLQ6JgP_ekJ",
        "colab_type": "code",
        "colab": {
          "base_uri": "https://localhost:8080/",
          "height": 53
        },
        "outputId": "0c80c309-5fa1-4193-e883-b65bc22bdbc2"
      },
      "source": [
        "print (\"Total Records: \" + str( df_youtube_full.count()))\n",
        "print(\"Number of Columns: \" + str(len(df_youtube_full.columns)))"
      ],
      "execution_count": 21,
      "outputs": [
        {
          "output_type": "stream",
          "text": [
            "Total Records: 40949\n",
            "Number of Columns: 12\n"
          ],
          "name": "stdout"
        }
      ]
    },
    {
      "cell_type": "code",
      "metadata": {
        "id": "Q-gpN22Z_jpU",
        "colab_type": "code",
        "colab": {
          "base_uri": "https://localhost:8080/",
          "height": 199
        },
        "outputId": "1564f6e4-eb84-4c03-e179-a7af05ec856d"
      },
      "source": [
        "df_youtube.describe('category_id').show()"
      ],
      "execution_count": 22,
      "outputs": [
        {
          "output_type": "stream",
          "text": [
            "+-------+-----------------+\n",
            "|summary|      category_id|\n",
            "+-------+-----------------+\n",
            "|  count|            40949|\n",
            "|   mean|19.97242911914821|\n",
            "| stddev|7.568326828280453|\n",
            "|    min|                1|\n",
            "|    max|               43|\n",
            "+-------+-----------------+\n",
            "\n"
          ],
          "name": "stdout"
        }
      ]
    },
    {
      "cell_type": "code",
      "metadata": {
        "id": "qqzUDgBP9874",
        "colab_type": "code",
        "colab": {
          "base_uri": "https://localhost:8080/",
          "height": 199
        },
        "outputId": "145095e1-729a-4bff-b516-5de7f713667e"
      },
      "source": [
        "df_youtube.describe('views').show()"
      ],
      "execution_count": 23,
      "outputs": [
        {
          "output_type": "stream",
          "text": [
            "+-------+------------------+\n",
            "|summary|             views|\n",
            "+-------+------------------+\n",
            "|  count|             40949|\n",
            "|   mean|2360784.6382573447|\n",
            "| stddev|  7394113.75970395|\n",
            "|    min|               549|\n",
            "|    max|         225211923|\n",
            "+-------+------------------+\n",
            "\n"
          ],
          "name": "stdout"
        }
      ]
    },
    {
      "cell_type": "code",
      "metadata": {
        "id": "O6YUZgw6_n_J",
        "colab_type": "code",
        "colab": {
          "base_uri": "https://localhost:8080/",
          "height": 206
        },
        "outputId": "4e103253-a184-4394-96d8-7a5ab1e51f01"
      },
      "source": [
        "df_youtube.describe('views').toPandas()"
      ],
      "execution_count": 24,
      "outputs": [
        {
          "output_type": "execute_result",
          "data": {
            "text/html": [
              "<div>\n",
              "<style scoped>\n",
              "    .dataframe tbody tr th:only-of-type {\n",
              "        vertical-align: middle;\n",
              "    }\n",
              "\n",
              "    .dataframe tbody tr th {\n",
              "        vertical-align: top;\n",
              "    }\n",
              "\n",
              "    .dataframe thead th {\n",
              "        text-align: right;\n",
              "    }\n",
              "</style>\n",
              "<table border=\"1\" class=\"dataframe\">\n",
              "  <thead>\n",
              "    <tr style=\"text-align: right;\">\n",
              "      <th></th>\n",
              "      <th>summary</th>\n",
              "      <th>views</th>\n",
              "    </tr>\n",
              "  </thead>\n",
              "  <tbody>\n",
              "    <tr>\n",
              "      <th>0</th>\n",
              "      <td>count</td>\n",
              "      <td>40949</td>\n",
              "    </tr>\n",
              "    <tr>\n",
              "      <th>1</th>\n",
              "      <td>mean</td>\n",
              "      <td>2360784.6382573447</td>\n",
              "    </tr>\n",
              "    <tr>\n",
              "      <th>2</th>\n",
              "      <td>stddev</td>\n",
              "      <td>7394113.75970395</td>\n",
              "    </tr>\n",
              "    <tr>\n",
              "      <th>3</th>\n",
              "      <td>min</td>\n",
              "      <td>549</td>\n",
              "    </tr>\n",
              "    <tr>\n",
              "      <th>4</th>\n",
              "      <td>max</td>\n",
              "      <td>225211923</td>\n",
              "    </tr>\n",
              "  </tbody>\n",
              "</table>\n",
              "</div>"
            ],
            "text/plain": [
              "  summary               views\n",
              "0   count               40949\n",
              "1    mean  2360784.6382573447\n",
              "2  stddev    7394113.75970395\n",
              "3     min                 549\n",
              "4     max           225211923"
            ]
          },
          "metadata": {
            "tags": []
          },
          "execution_count": 24
        }
      ]
    },
    {
      "cell_type": "markdown",
      "metadata": {
        "id": "IpW54vu__vsw",
        "colab_type": "text"
      },
      "source": [
        "### SELECT trending_date, video_id, channel_title FROM youtube LIMIT 5"
      ]
    },
    {
      "cell_type": "code",
      "metadata": {
        "id": "eL0M3Tma_xzg",
        "colab_type": "code",
        "colab": {
          "base_uri": "https://localhost:8080/",
          "height": 217
        },
        "outputId": "122a2649-bd93-4466-961e-bfb78cf8eaf0"
      },
      "source": [
        "df_youtube.select(\"trending_date\", \"video_id\", \"channel_title\").show(5)"
      ],
      "execution_count": 25,
      "outputs": [
        {
          "output_type": "stream",
          "text": [
            "+-------------+-----------+--------------------+\n",
            "|trending_date|   video_id|       channel_title|\n",
            "+-------------+-----------+--------------------+\n",
            "|       171114|2kyS6SvSYSE|        CaseyNeistat|\n",
            "|       171114|1ZAPwfrtAFY|     LastWeekTonight|\n",
            "|       171114|5qpjK5DgCt4|        Rudy Mancuso|\n",
            "|       171114|puqaWrEC7tY|Good Mythical Mor...|\n",
            "|       171114|d380meD0W0M|            nigahiga|\n",
            "+-------------+-----------+--------------------+\n",
            "only showing top 5 rows\n",
            "\n"
          ],
          "name": "stdout"
        }
      ]
    },
    {
      "cell_type": "markdown",
      "metadata": {
        "id": "3nqfuFJT_5Lp",
        "colab_type": "text"
      },
      "source": [
        "### SELECT trending_date, count(1) num_video FROM youtube GROUP BY trending_date ORDER By trending_date DESC"
      ]
    },
    {
      "cell_type": "code",
      "metadata": {
        "id": "Mu5RGjyO_-Ct",
        "colab_type": "code",
        "colab": {
          "base_uri": "https://localhost:8080/",
          "height": 489
        },
        "outputId": "eb22ab4f-c441-4e64-fae0-b30c0bfd84ac"
      },
      "source": [
        "from pyspark.sql.functions import col\n",
        "\n",
        "df = df_youtube \\\n",
        "        .groupBy(\"trending_date\") \\\n",
        "        .count() \\\n",
        "        .orderBy('trending_date', ascending=False) \\\n",
        "        .select(col(\"trending_date\"), col(\"count\").alias(\"num_video\"))\n",
        "\n",
        "\n",
        "df.show()"
      ],
      "execution_count": 26,
      "outputs": [
        {
          "output_type": "stream",
          "text": [
            "+-------------+---------+\n",
            "|trending_date|num_video|\n",
            "+-------------+---------+\n",
            "|       180614|      200|\n",
            "|       180613|      200|\n",
            "|       180612|      200|\n",
            "|       180611|      200|\n",
            "|       180610|      200|\n",
            "|       180609|      200|\n",
            "|       180608|      200|\n",
            "|       180607|      200|\n",
            "|       180606|      200|\n",
            "|       180605|      200|\n",
            "|       180604|      200|\n",
            "|       180603|      200|\n",
            "|       180602|      200|\n",
            "|       180601|      200|\n",
            "|       180531|      200|\n",
            "|       180530|      200|\n",
            "|       180529|      200|\n",
            "|       180528|      200|\n",
            "|       180527|      200|\n",
            "|       180526|      200|\n",
            "+-------------+---------+\n",
            "only showing top 20 rows\n",
            "\n"
          ],
          "name": "stdout"
        }
      ]
    },
    {
      "cell_type": "code",
      "metadata": {
        "id": "Wa4E5EyiAD5X",
        "colab_type": "code",
        "colab": {
          "base_uri": "https://localhost:8080/",
          "height": 424
        },
        "outputId": "76117b4a-2875-4b04-8d20-1939eb8a6800"
      },
      "source": [
        "df.toPandas()"
      ],
      "execution_count": 27,
      "outputs": [
        {
          "output_type": "execute_result",
          "data": {
            "text/html": [
              "<div>\n",
              "<style scoped>\n",
              "    .dataframe tbody tr th:only-of-type {\n",
              "        vertical-align: middle;\n",
              "    }\n",
              "\n",
              "    .dataframe tbody tr th {\n",
              "        vertical-align: top;\n",
              "    }\n",
              "\n",
              "    .dataframe thead th {\n",
              "        text-align: right;\n",
              "    }\n",
              "</style>\n",
              "<table border=\"1\" class=\"dataframe\">\n",
              "  <thead>\n",
              "    <tr style=\"text-align: right;\">\n",
              "      <th></th>\n",
              "      <th>trending_date</th>\n",
              "      <th>num_video</th>\n",
              "    </tr>\n",
              "  </thead>\n",
              "  <tbody>\n",
              "    <tr>\n",
              "      <th>0</th>\n",
              "      <td>180614</td>\n",
              "      <td>200</td>\n",
              "    </tr>\n",
              "    <tr>\n",
              "      <th>1</th>\n",
              "      <td>180613</td>\n",
              "      <td>200</td>\n",
              "    </tr>\n",
              "    <tr>\n",
              "      <th>2</th>\n",
              "      <td>180612</td>\n",
              "      <td>200</td>\n",
              "    </tr>\n",
              "    <tr>\n",
              "      <th>3</th>\n",
              "      <td>180611</td>\n",
              "      <td>200</td>\n",
              "    </tr>\n",
              "    <tr>\n",
              "      <th>4</th>\n",
              "      <td>180610</td>\n",
              "      <td>200</td>\n",
              "    </tr>\n",
              "    <tr>\n",
              "      <th>...</th>\n",
              "      <td>...</td>\n",
              "      <td>...</td>\n",
              "    </tr>\n",
              "    <tr>\n",
              "      <th>200</th>\n",
              "      <td>171118</td>\n",
              "      <td>200</td>\n",
              "    </tr>\n",
              "    <tr>\n",
              "      <th>201</th>\n",
              "      <td>171117</td>\n",
              "      <td>200</td>\n",
              "    </tr>\n",
              "    <tr>\n",
              "      <th>202</th>\n",
              "      <td>171116</td>\n",
              "      <td>200</td>\n",
              "    </tr>\n",
              "    <tr>\n",
              "      <th>203</th>\n",
              "      <td>171115</td>\n",
              "      <td>200</td>\n",
              "    </tr>\n",
              "    <tr>\n",
              "      <th>204</th>\n",
              "      <td>171114</td>\n",
              "      <td>200</td>\n",
              "    </tr>\n",
              "  </tbody>\n",
              "</table>\n",
              "<p>205 rows × 2 columns</p>\n",
              "</div>"
            ],
            "text/plain": [
              "     trending_date  num_video\n",
              "0           180614        200\n",
              "1           180613        200\n",
              "2           180612        200\n",
              "3           180611        200\n",
              "4           180610        200\n",
              "..             ...        ...\n",
              "200         171118        200\n",
              "201         171117        200\n",
              "202         171116        200\n",
              "203         171115        200\n",
              "204         171114        200\n",
              "\n",
              "[205 rows x 2 columns]"
            ]
          },
          "metadata": {
            "tags": []
          },
          "execution_count": 27
        }
      ]
    },
    {
      "cell_type": "markdown",
      "metadata": {
        "id": "_PmRd-sWALvb",
        "colab_type": "text"
      },
      "source": [
        "### What category have most views ?\n"
      ]
    },
    {
      "cell_type": "code",
      "metadata": {
        "id": "BtvykeQMAIjG",
        "colab_type": "code",
        "colab": {}
      },
      "source": [
        "SELECT \n",
        " category_id,\n",
        " sum(views) total_views,\n",
        " avg(views) avg_views\n",
        "FROM <user>.stg_youtube\n",
        "GROUP BY category_id"
      ],
      "execution_count": 0,
      "outputs": []
    },
    {
      "cell_type": "markdown",
      "metadata": {
        "id": "V_MDAUjiAaGp",
        "colab_type": "text"
      },
      "source": [
        "### Most views category in dataframe"
      ]
    },
    {
      "cell_type": "code",
      "metadata": {
        "id": "-Y1kDo7yARi2",
        "colab_type": "code",
        "colab": {
          "base_uri": "https://localhost:8080/",
          "height": 551
        },
        "outputId": "4f01f6d5-18aa-4af1-a744-9f43eeeca6e6"
      },
      "source": [
        "from pyspark.sql import functions as F\n",
        "\n",
        "result = df_youtube \\\n",
        "        .groupBy(\"category_id\") \\\n",
        "        .agg( \\\n",
        "            F.sum(col('views')).alias('total_views'), \\\n",
        "            F.avg(col('views')).alias('avg_views'), \\\n",
        "            F.count(F.lit(1)).alias('num_video') \\\n",
        "            ) \\\n",
        "        .orderBy('total_views', ascending=False) \n",
        "        \n",
        "        \n",
        "result.toPandas()"
      ],
      "execution_count": 28,
      "outputs": [
        {
          "output_type": "execute_result",
          "data": {
            "text/html": [
              "<div>\n",
              "<style scoped>\n",
              "    .dataframe tbody tr th:only-of-type {\n",
              "        vertical-align: middle;\n",
              "    }\n",
              "\n",
              "    .dataframe tbody tr th {\n",
              "        vertical-align: top;\n",
              "    }\n",
              "\n",
              "    .dataframe thead th {\n",
              "        text-align: right;\n",
              "    }\n",
              "</style>\n",
              "<table border=\"1\" class=\"dataframe\">\n",
              "  <thead>\n",
              "    <tr style=\"text-align: right;\">\n",
              "      <th></th>\n",
              "      <th>category_id</th>\n",
              "      <th>total_views</th>\n",
              "      <th>avg_views</th>\n",
              "      <th>num_video</th>\n",
              "    </tr>\n",
              "  </thead>\n",
              "  <tbody>\n",
              "    <tr>\n",
              "      <th>0</th>\n",
              "      <td>10</td>\n",
              "      <td>40132892190</td>\n",
              "      <td>6.201003e+06</td>\n",
              "      <td>6472</td>\n",
              "    </tr>\n",
              "    <tr>\n",
              "      <th>1</th>\n",
              "      <td>24</td>\n",
              "      <td>20604388195</td>\n",
              "      <td>2.067883e+06</td>\n",
              "      <td>9964</td>\n",
              "    </tr>\n",
              "    <tr>\n",
              "      <th>2</th>\n",
              "      <td>1</td>\n",
              "      <td>7284156721</td>\n",
              "      <td>3.106250e+06</td>\n",
              "      <td>2345</td>\n",
              "    </tr>\n",
              "    <tr>\n",
              "      <th>3</th>\n",
              "      <td>23</td>\n",
              "      <td>5117426208</td>\n",
              "      <td>1.480308e+06</td>\n",
              "      <td>3457</td>\n",
              "    </tr>\n",
              "    <tr>\n",
              "      <th>4</th>\n",
              "      <td>22</td>\n",
              "      <td>4917191726</td>\n",
              "      <td>1.531835e+06</td>\n",
              "      <td>3210</td>\n",
              "    </tr>\n",
              "    <tr>\n",
              "      <th>5</th>\n",
              "      <td>17</td>\n",
              "      <td>4404456673</td>\n",
              "      <td>2.025969e+06</td>\n",
              "      <td>2174</td>\n",
              "    </tr>\n",
              "    <tr>\n",
              "      <th>6</th>\n",
              "      <td>26</td>\n",
              "      <td>4078545064</td>\n",
              "      <td>9.837301e+05</td>\n",
              "      <td>4146</td>\n",
              "    </tr>\n",
              "    <tr>\n",
              "      <th>7</th>\n",
              "      <td>28</td>\n",
              "      <td>3487756816</td>\n",
              "      <td>1.452627e+06</td>\n",
              "      <td>2401</td>\n",
              "    </tr>\n",
              "    <tr>\n",
              "      <th>8</th>\n",
              "      <td>20</td>\n",
              "      <td>2141218625</td>\n",
              "      <td>2.620831e+06</td>\n",
              "      <td>817</td>\n",
              "    </tr>\n",
              "    <tr>\n",
              "      <th>9</th>\n",
              "      <td>25</td>\n",
              "      <td>1473765704</td>\n",
              "      <td>5.925877e+05</td>\n",
              "      <td>2487</td>\n",
              "    </tr>\n",
              "    <tr>\n",
              "      <th>10</th>\n",
              "      <td>27</td>\n",
              "      <td>1180629990</td>\n",
              "      <td>7.129408e+05</td>\n",
              "      <td>1656</td>\n",
              "    </tr>\n",
              "    <tr>\n",
              "      <th>11</th>\n",
              "      <td>15</td>\n",
              "      <td>764651989</td>\n",
              "      <td>8.311435e+05</td>\n",
              "      <td>920</td>\n",
              "    </tr>\n",
              "    <tr>\n",
              "      <th>12</th>\n",
              "      <td>2</td>\n",
              "      <td>520690717</td>\n",
              "      <td>1.355965e+06</td>\n",
              "      <td>384</td>\n",
              "    </tr>\n",
              "    <tr>\n",
              "      <th>13</th>\n",
              "      <td>19</td>\n",
              "      <td>343557084</td>\n",
              "      <td>8.546196e+05</td>\n",
              "      <td>402</td>\n",
              "    </tr>\n",
              "    <tr>\n",
              "      <th>14</th>\n",
              "      <td>29</td>\n",
              "      <td>168941392</td>\n",
              "      <td>2.963884e+06</td>\n",
              "      <td>57</td>\n",
              "    </tr>\n",
              "    <tr>\n",
              "      <th>15</th>\n",
              "      <td>43</td>\n",
              "      <td>51501058</td>\n",
              "      <td>9.035273e+05</td>\n",
              "      <td>57</td>\n",
              "    </tr>\n",
              "  </tbody>\n",
              "</table>\n",
              "</div>"
            ],
            "text/plain": [
              "    category_id  total_views     avg_views  num_video\n",
              "0            10  40132892190  6.201003e+06       6472\n",
              "1            24  20604388195  2.067883e+06       9964\n",
              "2             1   7284156721  3.106250e+06       2345\n",
              "3            23   5117426208  1.480308e+06       3457\n",
              "4            22   4917191726  1.531835e+06       3210\n",
              "5            17   4404456673  2.025969e+06       2174\n",
              "6            26   4078545064  9.837301e+05       4146\n",
              "7            28   3487756816  1.452627e+06       2401\n",
              "8            20   2141218625  2.620831e+06        817\n",
              "9            25   1473765704  5.925877e+05       2487\n",
              "10           27   1180629990  7.129408e+05       1656\n",
              "11           15    764651989  8.311435e+05        920\n",
              "12            2    520690717  1.355965e+06        384\n",
              "13           19    343557084  8.546196e+05        402\n",
              "14           29    168941392  2.963884e+06         57\n",
              "15           43     51501058  9.035273e+05         57"
            ]
          },
          "metadata": {
            "tags": []
          },
          "execution_count": 28
        }
      ]
    },
    {
      "cell_type": "code",
      "metadata": {
        "id": "gfcbzWnmAjI2",
        "colab_type": "code",
        "colab": {
          "base_uri": "https://localhost:8080/",
          "height": 551
        },
        "outputId": "9499b005-7ac4-467e-b02c-3ebc33b0db0e"
      },
      "source": [
        "result = df_youtube_full \\\n",
        "        .groupBy(\"category_name\") \\\n",
        "        .agg( \\\n",
        "            F.sum(col('views')).alias('total_views'), \\\n",
        "            F.avg(col('views')).alias('avg_views'), \\\n",
        "            F.count(F.lit(1)).alias('num_video') \\\n",
        "            ) \\\n",
        "        .orderBy('total_views', ascending=False) \n",
        "        \n",
        "result.toPandas()"
      ],
      "execution_count": 30,
      "outputs": [
        {
          "output_type": "execute_result",
          "data": {
            "text/html": [
              "<div>\n",
              "<style scoped>\n",
              "    .dataframe tbody tr th:only-of-type {\n",
              "        vertical-align: middle;\n",
              "    }\n",
              "\n",
              "    .dataframe tbody tr th {\n",
              "        vertical-align: top;\n",
              "    }\n",
              "\n",
              "    .dataframe thead th {\n",
              "        text-align: right;\n",
              "    }\n",
              "</style>\n",
              "<table border=\"1\" class=\"dataframe\">\n",
              "  <thead>\n",
              "    <tr style=\"text-align: right;\">\n",
              "      <th></th>\n",
              "      <th>category_name</th>\n",
              "      <th>total_views</th>\n",
              "      <th>avg_views</th>\n",
              "      <th>num_video</th>\n",
              "    </tr>\n",
              "  </thead>\n",
              "  <tbody>\n",
              "    <tr>\n",
              "      <th>0</th>\n",
              "      <td>Music</td>\n",
              "      <td>40132892190</td>\n",
              "      <td>6.201003e+06</td>\n",
              "      <td>6472</td>\n",
              "    </tr>\n",
              "    <tr>\n",
              "      <th>1</th>\n",
              "      <td>Entertainment</td>\n",
              "      <td>20604388195</td>\n",
              "      <td>2.067883e+06</td>\n",
              "      <td>9964</td>\n",
              "    </tr>\n",
              "    <tr>\n",
              "      <th>2</th>\n",
              "      <td>Film &amp; Animation</td>\n",
              "      <td>7284156721</td>\n",
              "      <td>3.106250e+06</td>\n",
              "      <td>2345</td>\n",
              "    </tr>\n",
              "    <tr>\n",
              "      <th>3</th>\n",
              "      <td>Comedy</td>\n",
              "      <td>5117426208</td>\n",
              "      <td>1.480308e+06</td>\n",
              "      <td>3457</td>\n",
              "    </tr>\n",
              "    <tr>\n",
              "      <th>4</th>\n",
              "      <td>People &amp; Blogs</td>\n",
              "      <td>4917191726</td>\n",
              "      <td>1.531835e+06</td>\n",
              "      <td>3210</td>\n",
              "    </tr>\n",
              "    <tr>\n",
              "      <th>5</th>\n",
              "      <td>Sports</td>\n",
              "      <td>4404456673</td>\n",
              "      <td>2.025969e+06</td>\n",
              "      <td>2174</td>\n",
              "    </tr>\n",
              "    <tr>\n",
              "      <th>6</th>\n",
              "      <td>Howto &amp; Style</td>\n",
              "      <td>4078545064</td>\n",
              "      <td>9.837301e+05</td>\n",
              "      <td>4146</td>\n",
              "    </tr>\n",
              "    <tr>\n",
              "      <th>7</th>\n",
              "      <td>Science &amp; Technology</td>\n",
              "      <td>3487756816</td>\n",
              "      <td>1.452627e+06</td>\n",
              "      <td>2401</td>\n",
              "    </tr>\n",
              "    <tr>\n",
              "      <th>8</th>\n",
              "      <td>Gaming</td>\n",
              "      <td>2141218625</td>\n",
              "      <td>2.620831e+06</td>\n",
              "      <td>817</td>\n",
              "    </tr>\n",
              "    <tr>\n",
              "      <th>9</th>\n",
              "      <td>News &amp; Politics</td>\n",
              "      <td>1473765704</td>\n",
              "      <td>5.925877e+05</td>\n",
              "      <td>2487</td>\n",
              "    </tr>\n",
              "    <tr>\n",
              "      <th>10</th>\n",
              "      <td>Education</td>\n",
              "      <td>1180629990</td>\n",
              "      <td>7.129408e+05</td>\n",
              "      <td>1656</td>\n",
              "    </tr>\n",
              "    <tr>\n",
              "      <th>11</th>\n",
              "      <td>Pets &amp; Animals</td>\n",
              "      <td>764651989</td>\n",
              "      <td>8.311435e+05</td>\n",
              "      <td>920</td>\n",
              "    </tr>\n",
              "    <tr>\n",
              "      <th>12</th>\n",
              "      <td>Autos &amp; Vehicles</td>\n",
              "      <td>520690717</td>\n",
              "      <td>1.355965e+06</td>\n",
              "      <td>384</td>\n",
              "    </tr>\n",
              "    <tr>\n",
              "      <th>13</th>\n",
              "      <td>Travel &amp; Events</td>\n",
              "      <td>343557084</td>\n",
              "      <td>8.546196e+05</td>\n",
              "      <td>402</td>\n",
              "    </tr>\n",
              "    <tr>\n",
              "      <th>14</th>\n",
              "      <td>Nonprofits &amp; Activism</td>\n",
              "      <td>168941392</td>\n",
              "      <td>2.963884e+06</td>\n",
              "      <td>57</td>\n",
              "    </tr>\n",
              "    <tr>\n",
              "      <th>15</th>\n",
              "      <td>Shows</td>\n",
              "      <td>51501058</td>\n",
              "      <td>9.035273e+05</td>\n",
              "      <td>57</td>\n",
              "    </tr>\n",
              "  </tbody>\n",
              "</table>\n",
              "</div>"
            ],
            "text/plain": [
              "            category_name  total_views     avg_views  num_video\n",
              "0                   Music  40132892190  6.201003e+06       6472\n",
              "1           Entertainment  20604388195  2.067883e+06       9964\n",
              "2        Film & Animation   7284156721  3.106250e+06       2345\n",
              "3                  Comedy   5117426208  1.480308e+06       3457\n",
              "4          People & Blogs   4917191726  1.531835e+06       3210\n",
              "5                  Sports   4404456673  2.025969e+06       2174\n",
              "6           Howto & Style   4078545064  9.837301e+05       4146\n",
              "7    Science & Technology   3487756816  1.452627e+06       2401\n",
              "8                  Gaming   2141218625  2.620831e+06        817\n",
              "9         News & Politics   1473765704  5.925877e+05       2487\n",
              "10              Education   1180629990  7.129408e+05       1656\n",
              "11         Pets & Animals    764651989  8.311435e+05        920\n",
              "12       Autos & Vehicles    520690717  1.355965e+06        384\n",
              "13        Travel & Events    343557084  8.546196e+05        402\n",
              "14  Nonprofits & Activism    168941392  2.963884e+06         57\n",
              "15                  Shows     51501058  9.035273e+05         57"
            ]
          },
          "metadata": {
            "tags": []
          },
          "execution_count": 30
        }
      ]
    },
    {
      "cell_type": "markdown",
      "metadata": {
        "id": "IRKpp-MBAqee",
        "colab_type": "text"
      },
      "source": [
        "### Most views category in SPARK SQL"
      ]
    },
    {
      "cell_type": "code",
      "metadata": {
        "id": "L9fRf1eNDxgr",
        "colab_type": "code",
        "colab": {
          "base_uri": "https://localhost:8080/",
          "height": 399
        },
        "outputId": "9a707c32-1a14-4562-b365-8afd1c9e0126"
      },
      "source": [
        "df_youtube_full.createOrReplaceTempView(\"youtube\")\n",
        "df2 = spark.sql(\"SELECT category_name, \\\n",
        "                             sum(views) as total_views, \\\n",
        "                             avg(views) as avg_views, \\\n",
        "                             count(1) as num_video \\\n",
        "                      FROM youtube \\\n",
        "                      GROUP BY category_name \\\n",
        "                      ORDER BY total_views DESC\")\n",
        "df2.show()"
      ],
      "execution_count": 34,
      "outputs": [
        {
          "output_type": "stream",
          "text": [
            "+--------------------+-----------+------------------+---------+\n",
            "|       category_name|total_views|         avg_views|num_video|\n",
            "+--------------------+-----------+------------------+---------+\n",
            "|               Music|40132892190| 6201003.119592089|     6472|\n",
            "|       Entertainment|20604388195|2067883.1990164593|     9964|\n",
            "|    Film & Animation| 7284156721|3106250.2008528784|     2345|\n",
            "|              Comedy| 5117426208| 1480308.420017356|     3457|\n",
            "|      People & Blogs| 4917191726| 1531835.428660436|     3210|\n",
            "|              Sports| 4404456673|2025969.0308187671|     2174|\n",
            "|       Howto & Style| 4078545064| 983730.1167390256|     4146|\n",
            "|Science & Technology| 3487756816|1452626.7455226989|     2401|\n",
            "|              Gaming| 2141218625| 2620830.630354957|      817|\n",
            "|     News & Politics| 1473765704| 592587.7378367512|     2487|\n",
            "|           Education| 1180629990| 712940.8152173914|     1656|\n",
            "|      Pets & Animals|  764651989| 831143.4663043479|      920|\n",
            "|    Autos & Vehicles|  520690717|1355965.4088541667|      384|\n",
            "|     Travel & Events|  343557084| 854619.6119402985|      402|\n",
            "|Nonprofits & Acti...|  168941392|2963884.0701754387|       57|\n",
            "|               Shows|   51501058| 903527.3333333334|       57|\n",
            "+--------------------+-----------+------------------+---------+\n",
            "\n"
          ],
          "name": "stdout"
        }
      ]
    },
    {
      "cell_type": "markdown",
      "metadata": {
        "id": "WLgfX9jDErBt",
        "colab_type": "text"
      },
      "source": [
        "### Data Visualization in Seaborn"
      ]
    },
    {
      "cell_type": "code",
      "metadata": {
        "id": "awySDfkXEaIP",
        "colab_type": "code",
        "colab": {
          "base_uri": "https://localhost:8080/",
          "height": 387
        },
        "outputId": "af530411-1b73-4522-cfe7-81f8bf1d5f2c"
      },
      "source": [
        "import matplotlib.pyplot as plt\n",
        "import seaborn as sns\n",
        "import numpy as np\n",
        "\n",
        "\n",
        "df2 = spark.sql(\"SELECT category_name, count(1) as num_video \\\n",
        "                      FROM youtube \\\n",
        "                      GROUP BY category_name \\\n",
        "                      ORDER BY num_video DESC\" \\\n",
        "                    )\n",
        "result_pd_df = df2.toPandas()\n",
        "sns.catplot(x='category_name', y='num_video', \\\n",
        "            data=result_pd_df, \\\n",
        "            order=result_pd_df['category_name'], \\\n",
        "            kind='bar')"
      ],
      "execution_count": 35,
      "outputs": [
        {
          "output_type": "execute_result",
          "data": {
            "text/plain": [
              "<seaborn.axisgrid.FacetGrid at 0x7f0e6f2ec278>"
            ]
          },
          "metadata": {
            "tags": []
          },
          "execution_count": 35
        },
        {
          "output_type": "display_data",
          "data": {
            "image/png": "[encoded data removed]",
            "text/plain": [
              "<Figure size 360x360 with 1 Axes>"
            ]
          },
          "metadata": {
            "tags": []
          }
        }
      ]
    },
    {
      "cell_type": "code",
      "metadata": {
        "id": "z_ZFHNfVEkw1",
        "colab_type": "code",
        "colab": {
          "base_uri": "https://localhost:8080/",
          "height": 313
        },
        "outputId": "817b0fb2-c1a3-4e16-9951-edd7a42d7220"
      },
      "source": [
        "result_pd_df\n",
        "## plt.figure(figsize=(15,10))\n",
        "sns.set_style(\"whitegrid\")\n",
        "ax = sns.barplot(y='category_name',x='num_video', \\\n",
        "                 data=result_pd_df, \\\n",
        "                 orient='h' \\\n",
        "                )\n",
        "plt.xlabel(\"Number of Videos\")\n",
        "plt.ylabel(\"Categories\")\n",
        "plt.title(\"Catogories of trend videos\")"
      ],
      "execution_count": 36,
      "outputs": [
        {
          "output_type": "execute_result",
          "data": {
            "text/plain": [
              "Text(0.5, 1.0, 'Catogories of trend videos')"
            ]
          },
          "metadata": {
            "tags": []
          },
          "execution_count": 36
        },
        {
          "output_type": "display_data",
          "data": {
            "image/png": "[encoded data removed]",
            "text/plain": [
              "<Figure size 432x288 with 1 Axes>"
            ]
          },
          "metadata": {
            "tags": []
          }
        }
      ]
    },
    {
      "cell_type": "code",
      "metadata": {
        "id": "54PmPoZTExsJ",
        "colab_type": "code",
        "colab": {
          "base_uri": "https://localhost:8080/",
          "height": 677
        },
        "outputId": "a0eac35b-257b-4823-df8d-fe1668492f82"
      },
      "source": [
        "df2 = spark.sql(\"SELECT video_id, count(1) as duration \\\n",
        "                      FROM youtube \\\n",
        "                      GROUP BY video_id \\\n",
        "                      ORDER BY duration DESC\" \\\n",
        "                    )\n",
        "result_pd_df = df2.toPandas()\n",
        "result_pd_df.head(20)"
      ],
      "execution_count": 38,
      "outputs": [
        {
          "output_type": "execute_result",
          "data": {
            "text/html": [
              "<div>\n",
              "<style scoped>\n",
              "    .dataframe tbody tr th:only-of-type {\n",
              "        vertical-align: middle;\n",
              "    }\n",
              "\n",
              "    .dataframe tbody tr th {\n",
              "        vertical-align: top;\n",
              "    }\n",
              "\n",
              "    .dataframe thead th {\n",
              "        text-align: right;\n",
              "    }\n",
              "</style>\n",
              "<table border=\"1\" class=\"dataframe\">\n",
              "  <thead>\n",
              "    <tr style=\"text-align: right;\">\n",
              "      <th></th>\n",
              "      <th>video_id</th>\n",
              "      <th>duration</th>\n",
              "    </tr>\n",
              "  </thead>\n",
              "  <tbody>\n",
              "    <tr>\n",
              "      <th>0</th>\n",
              "      <td>j4KvrAUjn6c</td>\n",
              "      <td>30</td>\n",
              "    </tr>\n",
              "    <tr>\n",
              "      <th>1</th>\n",
              "      <td>MAjY8mCTXWk</td>\n",
              "      <td>29</td>\n",
              "    </tr>\n",
              "    <tr>\n",
              "      <th>2</th>\n",
              "      <td>QBL8IRJ5yHU</td>\n",
              "      <td>29</td>\n",
              "    </tr>\n",
              "    <tr>\n",
              "      <th>3</th>\n",
              "      <td>t4pRQ0jn23Q</td>\n",
              "      <td>29</td>\n",
              "    </tr>\n",
              "    <tr>\n",
              "      <th>4</th>\n",
              "      <td>NBSAQenU2Bk</td>\n",
              "      <td>29</td>\n",
              "    </tr>\n",
              "    <tr>\n",
              "      <th>5</th>\n",
              "      <td>iILJvqrAQ_w</td>\n",
              "      <td>29</td>\n",
              "    </tr>\n",
              "    <tr>\n",
              "      <th>6</th>\n",
              "      <td>8h--kFui1JA</td>\n",
              "      <td>29</td>\n",
              "    </tr>\n",
              "    <tr>\n",
              "      <th>7</th>\n",
              "      <td>r-3iathMo7o</td>\n",
              "      <td>29</td>\n",
              "    </tr>\n",
              "    <tr>\n",
              "      <th>8</th>\n",
              "      <td>UfKmSfgFxi8</td>\n",
              "      <td>28</td>\n",
              "    </tr>\n",
              "    <tr>\n",
              "      <th>9</th>\n",
              "      <td>vjSohj-Iclc</td>\n",
              "      <td>28</td>\n",
              "    </tr>\n",
              "    <tr>\n",
              "      <th>10</th>\n",
              "      <td>ulNswX3If6U</td>\n",
              "      <td>28</td>\n",
              "    </tr>\n",
              "    <tr>\n",
              "      <th>11</th>\n",
              "      <td>2PH7dK6SLC8</td>\n",
              "      <td>28</td>\n",
              "    </tr>\n",
              "    <tr>\n",
              "      <th>12</th>\n",
              "      <td>6S9c5nnDd_s</td>\n",
              "      <td>28</td>\n",
              "    </tr>\n",
              "    <tr>\n",
              "      <th>13</th>\n",
              "      <td>WIV3xNz8NoM</td>\n",
              "      <td>28</td>\n",
              "    </tr>\n",
              "    <tr>\n",
              "      <th>14</th>\n",
              "      <td>mdWcaWBxxcY</td>\n",
              "      <td>28</td>\n",
              "    </tr>\n",
              "    <tr>\n",
              "      <th>15</th>\n",
              "      <td>YI3tsmFsrOg</td>\n",
              "      <td>28</td>\n",
              "    </tr>\n",
              "    <tr>\n",
              "      <th>16</th>\n",
              "      <td>TjXQzRWmb_I</td>\n",
              "      <td>27</td>\n",
              "    </tr>\n",
              "    <tr>\n",
              "      <th>17</th>\n",
              "      <td>BspHjvU11y4</td>\n",
              "      <td>27</td>\n",
              "    </tr>\n",
              "    <tr>\n",
              "      <th>18</th>\n",
              "      <td>0zZ0Y_UZRBw</td>\n",
              "      <td>27</td>\n",
              "    </tr>\n",
              "    <tr>\n",
              "      <th>19</th>\n",
              "      <td>Xpv-sEKl1B4</td>\n",
              "      <td>27</td>\n",
              "    </tr>\n",
              "  </tbody>\n",
              "</table>\n",
              "</div>"
            ],
            "text/plain": [
              "       video_id  duration\n",
              "0   j4KvrAUjn6c        30\n",
              "1   MAjY8mCTXWk        29\n",
              "2   QBL8IRJ5yHU        29\n",
              "3   t4pRQ0jn23Q        29\n",
              "4   NBSAQenU2Bk        29\n",
              "5   iILJvqrAQ_w        29\n",
              "6   8h--kFui1JA        29\n",
              "7   r-3iathMo7o        29\n",
              "8   UfKmSfgFxi8        28\n",
              "9   vjSohj-Iclc        28\n",
              "10  ulNswX3If6U        28\n",
              "11  2PH7dK6SLC8        28\n",
              "12  6S9c5nnDd_s        28\n",
              "13  WIV3xNz8NoM        28\n",
              "14  mdWcaWBxxcY        28\n",
              "15  YI3tsmFsrOg        28\n",
              "16  TjXQzRWmb_I        27\n",
              "17  BspHjvU11y4        27\n",
              "18  0zZ0Y_UZRBw        27\n",
              "19  Xpv-sEKl1B4        27"
            ]
          },
          "metadata": {
            "tags": []
          },
          "execution_count": 38
        }
      ]
    },
    {
      "cell_type": "code",
      "metadata": {
        "id": "cYpGxk8EE1zS",
        "colab_type": "code",
        "colab": {
          "base_uri": "https://localhost:8080/",
          "height": 551
        },
        "outputId": "a8a5e04c-fa60-42d3-ce62-0cf80f1bff10"
      },
      "source": [
        "df2 = spark.sql(\"SELECT category_name, sum(likes) as total_likes, \\\n",
        "                             sum(dislikes) as total_dislikes, \\\n",
        "                             (sum(likes)/sum(dislikes)) as ratio \\\n",
        "                      FROM youtube \\\n",
        "                      GROUP BY category_name \\\n",
        "                      ORDER BY ratio DESC\" \\\n",
        "                    )\n",
        "                    \n",
        "result_pd_df = df2.toPandas()\n",
        "result_pd_df.head(20)"
      ],
      "execution_count": 39,
      "outputs": [
        {
          "output_type": "execute_result",
          "data": {
            "text/html": [
              "<div>\n",
              "<style scoped>\n",
              "    .dataframe tbody tr th:only-of-type {\n",
              "        vertical-align: middle;\n",
              "    }\n",
              "\n",
              "    .dataframe tbody tr th {\n",
              "        vertical-align: top;\n",
              "    }\n",
              "\n",
              "    .dataframe thead th {\n",
              "        text-align: right;\n",
              "    }\n",
              "</style>\n",
              "<table border=\"1\" class=\"dataframe\">\n",
              "  <thead>\n",
              "    <tr style=\"text-align: right;\">\n",
              "      <th></th>\n",
              "      <th>category_name</th>\n",
              "      <th>total_likes</th>\n",
              "      <th>total_dislikes</th>\n",
              "      <th>ratio</th>\n",
              "    </tr>\n",
              "  </thead>\n",
              "  <tbody>\n",
              "    <tr>\n",
              "      <th>0</th>\n",
              "      <td>Shows</td>\n",
              "      <td>1082639</td>\n",
              "      <td>24508</td>\n",
              "      <td>44.174922</td>\n",
              "    </tr>\n",
              "    <tr>\n",
              "      <th>1</th>\n",
              "      <td>Pets &amp; Animals</td>\n",
              "      <td>19370702</td>\n",
              "      <td>527379</td>\n",
              "      <td>36.730135</td>\n",
              "    </tr>\n",
              "    <tr>\n",
              "      <th>2</th>\n",
              "      <td>Education</td>\n",
              "      <td>49257772</td>\n",
              "      <td>1351972</td>\n",
              "      <td>36.434018</td>\n",
              "    </tr>\n",
              "    <tr>\n",
              "      <th>3</th>\n",
              "      <td>Comedy</td>\n",
              "      <td>216346746</td>\n",
              "      <td>7230391</td>\n",
              "      <td>29.921860</td>\n",
              "    </tr>\n",
              "    <tr>\n",
              "      <th>4</th>\n",
              "      <td>Howto &amp; Style</td>\n",
              "      <td>162880075</td>\n",
              "      <td>5473899</td>\n",
              "      <td>29.755769</td>\n",
              "    </tr>\n",
              "    <tr>\n",
              "      <th>5</th>\n",
              "      <td>Music</td>\n",
              "      <td>1416838584</td>\n",
              "      <td>51179008</td>\n",
              "      <td>27.683979</td>\n",
              "    </tr>\n",
              "    <tr>\n",
              "      <th>6</th>\n",
              "      <td>Film &amp; Animation</td>\n",
              "      <td>165997476</td>\n",
              "      <td>6075148</td>\n",
              "      <td>27.324022</td>\n",
              "    </tr>\n",
              "    <tr>\n",
              "      <th>7</th>\n",
              "      <td>Sports</td>\n",
              "      <td>98621211</td>\n",
              "      <td>5133551</td>\n",
              "      <td>19.211110</td>\n",
              "    </tr>\n",
              "    <tr>\n",
              "      <th>8</th>\n",
              "      <td>People &amp; Blogs</td>\n",
              "      <td>186615999</td>\n",
              "      <td>10187901</td>\n",
              "      <td>18.317414</td>\n",
              "    </tr>\n",
              "    <tr>\n",
              "      <th>9</th>\n",
              "      <td>Science &amp; Technology</td>\n",
              "      <td>82532638</td>\n",
              "      <td>4548402</td>\n",
              "      <td>18.145414</td>\n",
              "    </tr>\n",
              "    <tr>\n",
              "      <th>10</th>\n",
              "      <td>Autos &amp; Vehicles</td>\n",
              "      <td>4245656</td>\n",
              "      <td>243010</td>\n",
              "      <td>17.471116</td>\n",
              "    </tr>\n",
              "    <tr>\n",
              "      <th>11</th>\n",
              "      <td>Travel &amp; Events</td>\n",
              "      <td>4836246</td>\n",
              "      <td>340427</td>\n",
              "      <td>14.206411</td>\n",
              "    </tr>\n",
              "    <tr>\n",
              "      <th>12</th>\n",
              "      <td>Entertainment</td>\n",
              "      <td>530516491</td>\n",
              "      <td>42987663</td>\n",
              "      <td>12.341134</td>\n",
              "    </tr>\n",
              "    <tr>\n",
              "      <th>13</th>\n",
              "      <td>Gaming</td>\n",
              "      <td>69038284</td>\n",
              "      <td>9184466</td>\n",
              "      <td>7.516853</td>\n",
              "    </tr>\n",
              "    <tr>\n",
              "      <th>14</th>\n",
              "      <td>Nonprofits &amp; Activism</td>\n",
              "      <td>14815646</td>\n",
              "      <td>3310381</td>\n",
              "      <td>4.475511</td>\n",
              "    </tr>\n",
              "    <tr>\n",
              "      <th>15</th>\n",
              "      <td>News &amp; Politics</td>\n",
              "      <td>18151033</td>\n",
              "      <td>4180049</td>\n",
              "      <td>4.342301</td>\n",
              "    </tr>\n",
              "  </tbody>\n",
              "</table>\n",
              "</div>"
            ],
            "text/plain": [
              "            category_name  total_likes  total_dislikes      ratio\n",
              "0                   Shows      1082639           24508  44.174922\n",
              "1          Pets & Animals     19370702          527379  36.730135\n",
              "2               Education     49257772         1351972  36.434018\n",
              "3                  Comedy    216346746         7230391  29.921860\n",
              "4           Howto & Style    162880075         5473899  29.755769\n",
              "5                   Music   1416838584        51179008  27.683979\n",
              "6        Film & Animation    165997476         6075148  27.324022\n",
              "7                  Sports     98621211         5133551  19.211110\n",
              "8          People & Blogs    186615999        10187901  18.317414\n",
              "9    Science & Technology     82532638         4548402  18.145414\n",
              "10       Autos & Vehicles      4245656          243010  17.471116\n",
              "11        Travel & Events      4836246          340427  14.206411\n",
              "12          Entertainment    530516491        42987663  12.341134\n",
              "13                 Gaming     69038284         9184466   7.516853\n",
              "14  Nonprofits & Activism     14815646         3310381   4.475511\n",
              "15        News & Politics     18151033         4180049   4.342301"
            ]
          },
          "metadata": {
            "tags": []
          },
          "execution_count": 39
        }
      ]
    },
    {
      "cell_type": "code",
      "metadata": {
        "id": "LL1aNtqlE69B",
        "colab_type": "code",
        "colab": {
          "base_uri": "https://localhost:8080/",
          "height": 313
        },
        "outputId": "651133cd-6b0d-4683-988f-be2bbb166c17"
      },
      "source": [
        "sns.set_style(\"whitegrid\")\n",
        "ax = sns.barplot(y='category_name',x='ratio', \\\n",
        "                 data=result_pd_df, \\\n",
        "                 orient='h' \\\n",
        "                )\n",
        "plt.xlabel(\"Ratio\")\n",
        "plt.ylabel(\"Categories\")\n",
        "plt.title(\"Ratio like vs dislike video\")"
      ],
      "execution_count": 40,
      "outputs": [
        {
          "output_type": "execute_result",
          "data": {
            "text/plain": [
              "Text(0.5, 1.0, 'Ratio like vs dislike video')"
            ]
          },
          "metadata": {
            "tags": []
          },
          "execution_count": 40
        },
        {
          "output_type": "display_data",
          "data": {
            "image/png": "[encoded data removed]",
            "text/plain": [
              "<Figure size 432x288 with 1 Axes>"
            ]
          },
          "metadata": {
            "tags": []
          }
        }
      ]
    }
  ]
}