{
  "nbformat": 4,
  "nbformat_minor": 0,
  "metadata": {
    "colab": {
      "name": "Latihan - Data Cleansing and Enrichment - data covid",
      "provenance": [],
      "collapsed_sections": []
    },
    "kernelspec": {
      "name": "python3",
      "display_name": "Python 3"
    }
  },
  "cells": [
    {
      "cell_type": "markdown",
      "metadata": {
        "id": "VSqTiubIBpoG"
      },
      "source": [
        "# Prepare Environment"
      ]
    },
    {
      "cell_type": "markdown",
      "metadata": {
        "id": "8elK3IvmVTew"
      },
      "source": [
        "**Install pyspark package**\n",
        "\n",
        "The first step before running spark is to install the ``pyspark`` package, because the package is not included in the default Google Colab setup.\n",
        "This step needs to be done every time we open a new session"
      ]
    },
    {
      "cell_type": "code",
      "metadata": {
        "id": "xyqGzlLOuBpV"
      },
      "source": [
        "!pip install pyspark"
      ],
      "execution_count": null,
      "outputs": []
    },
    {
      "cell_type": "markdown",
      "metadata": {
        "id": "3Ddekh7YVnsI"
      },
      "source": [
        "**b. Create spark session**"
      ]
    },
    {
      "cell_type": "code",
      "metadata": {
        "id": "qJDNbI5gti9B"
      },
      "source": [
        "import pyspark\n",
        "from pyspark.sql import SparkSession"
      ],
      "execution_count": null,
      "outputs": []
    },
    {
      "cell_type": "code",
      "metadata": {
        "id": "Hnxed8rpt5Xs"
      },
      "source": [
        "spark = SparkSession.builder.appName('DataFrame Basics').getOrCreate()"
      ],
      "execution_count": null,
      "outputs": []
    },
    {
      "cell_type": "markdown",
      "metadata": {
        "id": "2zIvvcs0Ivca"
      },
      "source": [
        "\n",
        "\n",
        "We will perform some simple data engineering with sales data. First we will load the clean data, and then we will use 'dirty' data and do some cleansing and enrichment."
      ]
    },
    {
      "cell_type": "markdown",
      "metadata": {
        "id": "k_x3EJ7a1JCz"
      },
      "source": [
        "#Latihan data\n",
        "\n",
        "Data covid, ada 2 file\n",
        "\n",
        "- data harian covid : \n",
        "seq, dateRep, cases, deaths, geoId, cnum_14days_per_100K\n",
        "\n",
        "- data referensi : \n",
        "countriesAndTerritories, geoId, countryterritoryCode, popData2019, continentExp\n",
        "\n",
        "</p>\n",
        "<i>Note : The formula to calculate the 14-day cumulative number of reported COVID-19 cases per 100 000 population is  (New cases over 14 day period)/Population)*100 000. </i>\n"
      ]
    },
    {
      "cell_type": "markdown",
      "metadata": {
        "id": "zD4tnRAQrd8E"
      },
      "source": [
        "##1. Data Harian Covid\n",
        "\n",
        "Data utama\n",
        "Ada data duplikat, ada data incomplete, ada data yang tidak standar"
      ]
    },
    {
      "cell_type": "code",
      "metadata": {
        "id": "You9cnHk6jAE"
      },
      "source": [
        "#Data harian covid \n",
        "\n",
        "!wget https://www.dropbox.com/s/9le71jjcpdqzzk9/datacovid_dup1.csv"
      ],
      "execution_count": null,
      "outputs": []
    },
    {
      "cell_type": "code",
      "metadata": {
        "id": "Q3rPJlbR6rgc"
      },
      "source": [
        "df = spark.read.csv(\"datacovid_dup1.csv\",header=True,inferSchema=True)"
      ],
      "execution_count": null,
      "outputs": []
    },
    {
      "cell_type": "code",
      "metadata": {
        "id": "AFyrMjlz7IdK",
        "colab": {
          "base_uri": "https://localhost:8080/"
        },
        "outputId": "77ed1549-807c-4bd1-9554-0ecf7d383a61"
      },
      "source": [
        "df.show()\n",
        "df.printSchema()"
      ],
      "execution_count": null,
      "outputs": [
        {
          "output_type": "stream",
          "text": [
            "+---+----------+-----+------+-----+--------------------+\n",
            "|_c0|   dateRep|cases|deaths|geoId|cnum_14days_per_100K|\n",
            "+---+----------+-----+------+-----+--------------------+\n",
            "|  0|08/11/2020|126.0|   6.0|   AF|          3.65650829|\n",
            "|  1|07/11/2020| 58.0|   2.0|   AF|          3.53821723|\n",
            "|  2|06/11/2020| 40.0|   0.0|   AF|           3.5461033|\n",
            "|  3|05/11/2020|121.0|   6.0|   AF|          3.74588377|\n",
            "|  4|04/11/2020| 86.0|   4.0|   AF|          3.78268543|\n",
            "|  5|03/11/2020| 95.0|   3.0|   AF|          3.78794281|\n",
            "|  6|02/11/2020|132.0|   5.0|   AF|          3.76691329|\n",
            "|  7|01/11/2020| 76.0|   0.0|   AF|          3.57501889|\n",
            "|  8|31/10/2020|157.0|   4.0|   AF|          3.55398937|\n",
            "|  9|30/10/2020|123.0|   3.0|   AF|          3.26483343|\n",
            "| 10|29/10/2020|  0.0|   0.0|   AF|          2.94150452|\n",
            "| 11|28/10/2020|113.0|   7.0|   AF|          3.02562261|\n",
            "| 12|27/10/2020|199.0|   8.0|   AF|          2.90207416|\n",
            "| 13|26/10/2020| 65.0|   3.0|   AF|          2.71806583|\n",
            "| 14|25/10/2020| 81.0|   4.0|   AF|          2.79955524|\n",
            "| 15|24/10/2020| 61.0|   2.0|   AF|          2.58663132|\n",
            "| 16|23/10/2020|116.0|   4.0|   AF|          2.45256811|\n",
            "| 17|22/10/2020|135.0|   2.0|   AF|          2.35004918|\n",
            "| 18|21/10/2020| 88.0|   2.0|   AF|          2.17392693|\n",
            "| 19|20/10/2020| 87.0|   5.0|   AF|          2.10558098|\n",
            "+---+----------+-----+------+-----+--------------------+\n",
            "only showing top 20 rows\n",
            "\n",
            "root\n",
            " |-- _c0: integer (nullable = true)\n",
            " |-- dateRep: string (nullable = true)\n",
            " |-- cases: double (nullable = true)\n",
            " |-- deaths: double (nullable = true)\n",
            " |-- geoId: string (nullable = true)\n",
            " |-- cnum_14days_per_100K: double (nullable = true)\n",
            "\n"
          ],
          "name": "stdout"
        }
      ]
    },
    {
      "cell_type": "code",
      "metadata": {
        "id": "RTcv_uYOEHTw"
      },
      "source": [
        "df.createOrReplaceTempView(\"datacovid\")\n"
      ],
      "execution_count": null,
      "outputs": []
    },
    {
      "cell_type": "markdown",
      "metadata": {
        "id": "W3xPOmnsr9gO"
      },
      "source": [
        "##Data Referensi \n",
        "\n",
        "- countryterritoryCode : nama negara/wilayah\n",
        "- popData2019 : populasi tahun 2019\n",
        "- continentExp : nama benua"
      ]
    },
    {
      "cell_type": "code",
      "metadata": {
        "id": "d_3Et_LO7PRx"
      },
      "source": [
        "!wget https://www.dropbox.com/s/attxr4nalhpakti/countries3.csv"
      ],
      "execution_count": null,
      "outputs": []
    },
    {
      "cell_type": "code",
      "metadata": {
        "id": "DkKsGBCU7Sd1"
      },
      "source": [
        "dfr = spark.read.csv(\"countries3.csv\",header=True,inferSchema=True)"
      ],
      "execution_count": null,
      "outputs": []
    },
    {
      "cell_type": "code",
      "metadata": {
        "id": "PdjHeh3W7YXQ",
        "colab": {
          "base_uri": "https://localhost:8080/"
        },
        "outputId": "12f501dd-9741-40f1-ffd1-af2a046e3590"
      },
      "source": [
        "dfr.show(5)\n",
        "dfr.printSchema()"
      ],
      "execution_count": null,
      "outputs": [
        {
          "output_type": "stream",
          "text": [
            "+---+-----------------------+-----+--------------------+-----------+------------+\n",
            "|_c0|countriesAndTerritories|geoId|countryterritoryCode|popData2019|continentExp|\n",
            "+---+-----------------------+-----+--------------------+-----------+------------+\n",
            "|  0|           Cote_dIvoire|   CI|                 CIV|2.5716554E7|      Africa|\n",
            "|  1|                Lebanon|   LB|                 LBN|  6855709.0|        Asia|\n",
            "|  2|                Armenia|   AM|                 ARM|  2957728.0|      Europe|\n",
            "|  3|                Bolivia|   BO|                 BOL|1.1513102E7|     America|\n",
            "|  4|          Guinea_Bissau|   GW|                 GNB|  1920917.0|      Africa|\n",
            "+---+-----------------------+-----+--------------------+-----------+------------+\n",
            "only showing top 5 rows\n",
            "\n",
            "root\n",
            " |-- _c0: integer (nullable = true)\n",
            " |-- countriesAndTerritories: string (nullable = true)\n",
            " |-- geoId: string (nullable = true)\n",
            " |-- countryterritoryCode: string (nullable = true)\n",
            " |-- popData2019: double (nullable = true)\n",
            " |-- continentExp: string (nullable = true)\n",
            "\n"
          ],
          "name": "stdout"
        }
      ]
    },
    {
      "cell_type": "markdown",
      "metadata": {
        "id": "Wb3HDzElGO8U"
      },
      "source": [
        "##Pertanyaan yang harus dijawab : \n",
        "1. Ada berapa total hari pelaporan?\n",
        "2. Dari tanggal berapa sampai tanggal berapa?\n",
        "<br><br>\n",
        "3. Ada berapa data invalid?\n",
        "4. Ada berapa data duplikat?\n",
        "<br><br>\n",
        "5. Berapa total kasus positif di Timor Leste ?\n",
        "6. Berapa total kematian di Inggris?\n",
        "7. Benua mana yang rasio kematiannya (terhadap jumlah kasus) paling besar?"
      ]
    }
  ]
}