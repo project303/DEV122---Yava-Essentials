{
  "nbformat": 4,
  "nbformat_minor": 0,
  "metadata": {
    "colab": {
      "name": "YAVA Essentials_LABS 06C_ Know Your Data.ipynb",
      "provenance": []
    },
    "kernelspec": {
      "name": "python3",
      "display_name": "Python 3"
    }
  },
  "cells": [
    {
      "cell_type": "markdown",
      "metadata": {
        "id": "NGE6OUlsypQa"
      },
      "source": [
        "# LAB06: Know Your Data"
      ]
    },
    {
      "cell_type": "code",
      "metadata": {
        "id": "4emjZ5ZuLWq-"
      },
      "source": [
        "%pip install pyspark"
      ],
      "execution_count": null,
      "outputs": []
    },
    {
      "cell_type": "code",
      "metadata": {
        "id": "bAPF9F4QL3P2"
      },
      "source": [
        "import pyspark\n",
        "from pyspark.sql import SparkSession\n",
        "spark = SparkSession.builder.appName('Know your data').getOrCreate()"
      ],
      "execution_count": null,
      "outputs": []
    },
    {
      "cell_type": "markdown",
      "metadata": {
        "id": "DtaAL1HURIUU"
      },
      "source": [
        "## Download Dataset"
      ]
    },
    {
      "cell_type": "code",
      "metadata": {
        "id": "foUs9JpoRg5G"
      },
      "source": [
        "! mkdir -p dataset"
      ],
      "execution_count": null,
      "outputs": []
    },
    {
      "cell_type": "code",
      "metadata": {
        "id": "rGgM6pYRMGyH"
      },
      "source": [
        "! wget -P dataset https://www.dropbox.com/s/084rsqludghubkg/us_youtube_1K.csv"
      ],
      "execution_count": null,
      "outputs": []
    },
    {
      "cell_type": "code",
      "metadata": {
        "id": "5b0OteWVMRlj"
      },
      "source": [
        "! head dataset/us_youtube_1K.csv"
      ],
      "execution_count": null,
      "outputs": []
    },
    {
      "cell_type": "code",
      "metadata": {
        "id": "rhjdsfS4MZ7z"
      },
      "source": [
        "! wc -l dataset/us_youtube_1K.csv"
      ],
      "execution_count": null,
      "outputs": []
    },
    {
      "cell_type": "markdown",
      "metadata": {
        "id": "41kDThZuR-gp"
      },
      "source": [
        "## Create youtube Table"
      ]
    },
    {
      "cell_type": "code",
      "metadata": {
        "id": "Tqnwb_F7MhlW"
      },
      "source": [
        "df_youtube = spark.read.csv(path=\"dataset/us_youtube_1K.csv\", header = True, inferSchema = True)\n",
        "df_youtube.createOrReplaceTempView(\"youtube\")"
      ],
      "execution_count": null,
      "outputs": []
    },
    {
      "cell_type": "markdown",
      "metadata": {
        "id": "TysKEn38YMrO"
      },
      "source": [
        "### Show table description"
      ]
    },
    {
      "cell_type": "code",
      "metadata": {
        "id": "j8EtMCEDNJK7"
      },
      "source": [
        "spark.sql(\"\\\n",
        "DESC youtube \\\n",
        "\").show()"
      ],
      "execution_count": null,
      "outputs": []
    },
    {
      "cell_type": "markdown",
      "metadata": {
        "id": "ayRLyTCiYQw-"
      },
      "source": [
        "### View first 5 records"
      ]
    },
    {
      "cell_type": "code",
      "metadata": {
        "id": "QPAljPG1M8-j"
      },
      "source": [
        "spark.sql(\"\\\n",
        "SELECT * FROM youtube LIMIT 5 \\\n",
        "\").show()"
      ],
      "execution_count": null,
      "outputs": []
    },
    {
      "cell_type": "markdown",
      "metadata": {
        "id": "JWEWrIl6Ycc_"
      },
      "source": [
        "### Count number of records"
      ]
    },
    {
      "cell_type": "code",
      "metadata": {
        "id": "o9LUqH99NYkW"
      },
      "source": [
        "spark.sql(\"\\\n",
        "SELECT count(1) num_rec FROM youtube \\\n",
        "\").show()"
      ],
      "execution_count": null,
      "outputs": []
    },
    {
      "cell_type": "markdown",
      "metadata": {
        "id": "N4GbhxOgSKAb"
      },
      "source": [
        "## Know Your Data"
      ]
    },
    {
      "cell_type": "markdown",
      "metadata": {
        "id": "zwi9EVkJSk-E"
      },
      "source": [
        "### Get video_id length"
      ]
    },
    {
      "cell_type": "code",
      "metadata": {
        "id": "jxwYCpOPODx3"
      },
      "source": [
        "spark.sql(\"\\\n",
        "SELECT LENGTH(video_id) as len_rec, count(*) as num_rec \\\n",
        "FROM youtube \\\n",
        "GROUP BY LENGTH(video_id) \\\n",
        "ORDER BY LENGTH(video_id) \\\n",
        "\").show(10)\n"
      ],
      "execution_count": null,
      "outputs": []
    },
    {
      "cell_type": "markdown",
      "metadata": {
        "id": "ErYz-hNLSq-P"
      },
      "source": [
        "### Show records where the video_id length equal to 13"
      ]
    },
    {
      "cell_type": "code",
      "metadata": {
        "id": "md81-v_GOeRH"
      },
      "source": [
        "spark.sql(\"\\\n",
        "SELECT * \\\n",
        "FROM youtube \\\n",
        "WHERE LENGTH(video_id) = 13 \\\n",
        "LIMIT 5 \\\n",
        "\").show()\n"
      ],
      "execution_count": null,
      "outputs": []
    },
    {
      "cell_type": "markdown",
      "metadata": {
        "id": "n0Btszu3S12R"
      },
      "source": [
        "### Show records where the video_id length is null"
      ]
    },
    {
      "cell_type": "code",
      "metadata": {
        "id": "sAebNrbpP_-e"
      },
      "source": [
        "spark.sql(\"\\\n",
        "SELECT * \\\n",
        "FROM youtube \\\n",
        "WHERE LENGTH(video_id) is null \\\n",
        "LIMIT 5 \\\n",
        "\").show()\n"
      ],
      "execution_count": null,
      "outputs": []
    },
    {
      "cell_type": "markdown",
      "metadata": {
        "id": "NbDvOkNfS9KP"
      },
      "source": [
        "### Show records where the video_id length equal to 11"
      ]
    },
    {
      "cell_type": "code",
      "metadata": {
        "id": "IpQdh9bKQLPe"
      },
      "source": [
        "spark.sql(\"\\\n",
        "SELECT * \\\n",
        "FROM youtube \\\n",
        "WHERE LENGTH(video_id) = 11 \\\n",
        "LIMIT 5 \\\n",
        "\").show()\n"
      ],
      "execution_count": null,
      "outputs": []
    },
    {
      "cell_type": "markdown",
      "metadata": {
        "id": "-BRB-XK7S_ta"
      },
      "source": [
        "### Count number of record where the video_id length equal to 11"
      ]
    },
    {
      "cell_type": "code",
      "metadata": {
        "id": "azWlOPyfQUyq"
      },
      "source": [
        "spark.sql(\"\\\n",
        "SELECT count(*) valid_rec \\\n",
        "FROM youtube \\\n",
        "WHERE LENGTH(video_id) = 11 \\\n",
        "\").show()\n"
      ],
      "execution_count": null,
      "outputs": []
    },
    {
      "cell_type": "markdown",
      "metadata": {
        "id": "TrJNOZk4TOKI"
      },
      "source": [
        "### View some column length where video_id length is 11"
      ]
    },
    {
      "cell_type": "code",
      "metadata": {
        "id": "wVy90y2GQk3l"
      },
      "source": [
        "spark.sql(\"\\\n",
        "SELECT LENGTH(video_id) len_video_id, LENGTH(trending_date) len_trending_date, LENGTH(category_id) len_category_id, LENGTH(publish_time) len_publish_time, LENGTH(views) len_views, \\\n",
        "       LENGTH(likes) len_likes, LENGTH(dislikes) len_dislike, count(*) num_rec \\\n",
        "FROM youtube \\\n",
        "GROUP BY LENGTH(video_id), LENGTH(trending_date), LENGTH(category_id), LENGTH(publish_time), LENGTH(views), LENGTH(likes), LENGTH(dislikes) \\\n",
        "HAVING len_video_id = 11 \\\n",
        "\").show()\n"
      ],
      "execution_count": null,
      "outputs": []
    },
    {
      "cell_type": "markdown",
      "metadata": {
        "id": "9JlclXbWTlVd"
      },
      "source": [
        "### Show records where video_id length is 11 and views length is 6"
      ]
    },
    {
      "cell_type": "code",
      "metadata": {
        "id": "91_O_Qr1Tfdm"
      },
      "source": [
        "spark.sql(\"\\\n",
        "SELECT * \\\n",
        "FROM youtube \\\n",
        "WHERE LENGTH(video_id) = 11 AND LENGTH(views) = 6 \\\n",
        "LIMIT 5 \\\n",
        "\").show()"
      ],
      "execution_count": null,
      "outputs": []
    },
    {
      "cell_type": "markdown",
      "metadata": {
        "id": "MREA_nWrT5nu"
      },
      "source": [
        "## Create New Table for Valid Data"
      ]
    },
    {
      "cell_type": "markdown",
      "metadata": {
        "id": "fxn4sKnIUCRc"
      },
      "source": [
        "### Query valid records"
      ]
    },
    {
      "cell_type": "code",
      "metadata": {
        "id": "WuWifDhYTyUu"
      },
      "source": [
        "spark.sql(\"\\\n",
        "SELECT \\\n",
        "  video_id, \\\n",
        "  CAST(concat( substr(trending_date,1,2), \\\n",
        "          substr(trending_date,7,2), \\\n",
        "          substr(trending_date,4,2)) \\\n",
        "          as int) trending_date, \\\n",
        "  title, \\\n",
        "  channel_title, \\\n",
        "  CAST(category_id as int), \\\n",
        "  publish_time, \\\n",
        "  tags, \\\n",
        "  CAST(views as int), \\\n",
        "  CAST(likes as int), \\\n",
        "  CAST(dislikes as int), \\\n",
        "  CAST(comment_count as int) \\\n",
        "FROM youtube \\\n",
        "WHERE LENGTH(video_id) = 11 AND LENGTH(trending_date) = 8 \\\n",
        "\").show(5)"
      ],
      "execution_count": null,
      "outputs": []
    },
    {
      "cell_type": "markdown",
      "metadata": {
        "id": "E8W18JuhY_Lr"
      },
      "source": [
        "### Create stg_youtube table"
      ]
    },
    {
      "cell_type": "code",
      "metadata": {
        "id": "oYSa530fUa9u"
      },
      "source": [
        "df_stg_youtube = spark.sql(\"\\\n",
        "SELECT \\\n",
        "  video_id, \\\n",
        "  CAST(concat( substr(trending_date,1,2), \\\n",
        "          substr(trending_date,7,2), \\\n",
        "          substr(trending_date,4,2)) \\\n",
        "          as int) trending_date, \\\n",
        "  title, \\\n",
        "  channel_title, \\\n",
        "  CAST(category_id as int), \\\n",
        "  publish_time, \\\n",
        "  tags, \\\n",
        "  CAST(views as int), \\\n",
        "  CAST(likes as int), \\\n",
        "  CAST(dislikes as int), \\\n",
        "  CAST(comment_count as int) \\\n",
        "FROM youtube \\\n",
        "WHERE LENGTH(video_id) = 11 AND LENGTH(trending_date) = 8 \\\n",
        "\")"
      ],
      "execution_count": null,
      "outputs": []
    },
    {
      "cell_type": "code",
      "metadata": {
        "id": "ARKJny3rVGHK"
      },
      "source": [
        "df_stg_youtube.createOrReplaceTempView(\"stg_youtube\")"
      ],
      "execution_count": null,
      "outputs": []
    },
    {
      "cell_type": "markdown",
      "metadata": {
        "id": "mYn_q-D0ZFf3"
      },
      "source": [
        "### View stg_youtube table description"
      ]
    },
    {
      "cell_type": "code",
      "metadata": {
        "id": "JlD3gdWlVPOh"
      },
      "source": [
        "spark.sql(\"\\\n",
        "DESC stg_youtube \\\n",
        "\").show()"
      ],
      "execution_count": null,
      "outputs": []
    },
    {
      "cell_type": "markdown",
      "metadata": {
        "id": "YO47UC-ZZMK9"
      },
      "source": [
        "### Count number of records"
      ]
    },
    {
      "cell_type": "code",
      "metadata": {
        "id": "GaVJwTZ-VY-g"
      },
      "source": [
        "spark.sql(\"\\\n",
        "SELECT count(*) num_rec FROM stg_youtube \\\n",
        "\").show()\n"
      ],
      "execution_count": null,
      "outputs": []
    },
    {
      "cell_type": "markdown",
      "metadata": {
        "id": "KrBAAd4RZRmb"
      },
      "source": [
        "### How many days in dataset?"
      ]
    },
    {
      "cell_type": "code",
      "metadata": {
        "id": "SVd16B-VVkYg"
      },
      "source": [
        "spark.sql(\"\\\n",
        "select count(1) num_days \\\n",
        "from( \\\n",
        " select trending_date from stg_youtube \\\n",
        " group by trending_date \\\n",
        ") a \\\n",
        "\").show()\n"
      ],
      "execution_count": null,
      "outputs": []
    },
    {
      "cell_type": "markdown",
      "metadata": {
        "id": "nufQc6piZWKF"
      },
      "source": [
        "### Get number of records for each day"
      ]
    },
    {
      "cell_type": "code",
      "metadata": {
        "id": "2LbRwfd6V-a9"
      },
      "source": [
        "spark.sql(\"\\\n",
        "select \\\n",
        "    trending_date, \\\n",
        "    count(*) num_rec \\\n",
        "from stg_youtube \\\n",
        "group by trending_date \\\n",
        "order by trending_date \\\n",
        "\").show()"
      ],
      "execution_count": null,
      "outputs": []
    },
    {
      "cell_type": "code",
      "metadata": {
        "id": "qBD12XRVWLR7"
      },
      "source": [
        ""
      ],
      "execution_count": null,
      "outputs": []
    }
  ]
}