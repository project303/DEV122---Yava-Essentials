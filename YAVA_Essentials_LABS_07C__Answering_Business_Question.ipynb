{
  "nbformat": 4,
  "nbformat_minor": 0,
  "metadata": {
    "colab": {
      "name": "YAVA Essentials_LABS 07C_ Answering Business Question.ipynb",
      "provenance": []
    },
    "kernelspec": {
      "name": "python3",
      "display_name": "Python 3"
    }
  },
  "cells": [
    {
      "cell_type": "markdown",
      "metadata": {
        "id": "nUuyjJvizDkf"
      },
      "source": [
        "# LAB07: Answering Business Question"
      ]
    },
    {
      "cell_type": "code",
      "metadata": {
        "id": "IXAHvH7AZ6xm"
      },
      "source": [
        "%pip install pyspark"
      ],
      "execution_count": null,
      "outputs": []
    },
    {
      "cell_type": "code",
      "metadata": {
        "id": "Mnvf9QLkZ9Kg"
      },
      "source": [
        "import pyspark\n",
        "from pyspark.sql import SparkSession\n",
        "spark = SparkSession.builder.appName('Answering Business Question').getOrCreate()"
      ],
      "execution_count": null,
      "outputs": []
    },
    {
      "cell_type": "markdown",
      "metadata": {
        "id": "YHRAZ3fEskdH"
      },
      "source": [
        "### Read youtube dataset"
      ]
    },
    {
      "cell_type": "code",
      "metadata": {
        "id": "rJQ1uxtHamEm"
      },
      "source": [
        "#https://www.dropbox.com/s/wk8v3ly5mclsj5d/stg_youtube_1K.csv\n",
        "#https://www.dropbox.com/s/i2rjdae18k8fd0j/stg_youtube.csv "
      ],
      "execution_count": null,
      "outputs": []
    },
    {
      "cell_type": "code",
      "metadata": {
        "id": "IIyZ046nxFlc"
      },
      "source": [
        "!mkdir -p dataset"
      ],
      "execution_count": null,
      "outputs": []
    },
    {
      "cell_type": "code",
      "metadata": {
        "id": "UWt1rCzga9ts"
      },
      "source": [
        "!wget -P dataset https://www.dropbox.com/s/i2rjdae18k8fd0j/stg_youtube.csv "
      ],
      "execution_count": null,
      "outputs": []
    },
    {
      "cell_type": "code",
      "metadata": {
        "id": "mT9cDYnPbNGA"
      },
      "source": [
        "! ls -lah dataset"
      ],
      "execution_count": null,
      "outputs": []
    },
    {
      "cell_type": "code",
      "metadata": {
        "id": "AxZdTCFmbRCv"
      },
      "source": [
        "! head dataset/stg_youtube.csv"
      ],
      "execution_count": null,
      "outputs": []
    },
    {
      "cell_type": "code",
      "metadata": {
        "id": "cpvib_atbY8z"
      },
      "source": [
        "from pyspark.sql.types import *\n",
        "\n",
        "file_path = \"dataset/stg_youtube.csv\"\n",
        "youtube_schema=StructType([\n",
        "    StructField(\"video_id\", StringType(), True),\n",
        "    StructField(\"trending_date\", IntegerType(), True),\n",
        "    StructField(\"title\", StringType(), True),\n",
        "    StructField(\"channel_title\", StringType(), True),\n",
        "    StructField(\"category_id\", IntegerType(), True),\n",
        "    StructField(\"publish_time\", StringType(), True),\n",
        "    StructField(\"tags\", StringType(), True),\n",
        "    StructField(\"views\", IntegerType(), True),\n",
        "    StructField(\"likes\", IntegerType(), True),\n",
        "    StructField(\"dislikes\", IntegerType(), True),\n",
        "    StructField(\"comment_count\", IntegerType(), True)\n",
        "])\n",
        "\n",
        "df_stg_youtube = spark.read \\\n",
        " .option(\"delimiter\", \"\\t\") \\\n",
        " .schema(youtube_schema) \\\n",
        " .option(\"inferSchema\", \"True\") \\\n",
        " .csv(file_path)"
      ],
      "execution_count": null,
      "outputs": []
    },
    {
      "cell_type": "code",
      "metadata": {
        "id": "5h2Jkyoybu3_"
      },
      "source": [
        "print (\"Total Records: \" + str( df_stg_youtube.count()))\n",
        "df_stg_youtube.show(3, truncate=False)"
      ],
      "execution_count": null,
      "outputs": []
    },
    {
      "cell_type": "markdown",
      "metadata": {
        "id": "acsUNXjNsswt"
      },
      "source": [
        "### Read video_category"
      ]
    },
    {
      "cell_type": "code",
      "metadata": {
        "id": "JL6NcJvJb2Wz"
      },
      "source": [
        "!wget -P dataset https://www.dropbox.com/s/b7wut6mj9wpfyi1/video_category.dat"
      ],
      "execution_count": null,
      "outputs": []
    },
    {
      "cell_type": "code",
      "metadata": {
        "id": "0LVWqfSBc2m7"
      },
      "source": [
        "! ls -lah dataset"
      ],
      "execution_count": null,
      "outputs": []
    },
    {
      "cell_type": "code",
      "metadata": {
        "id": "1QsiU56ec6ET"
      },
      "source": [
        "! head dataset/video_category.dat"
      ],
      "execution_count": null,
      "outputs": []
    },
    {
      "cell_type": "code",
      "metadata": {
        "id": "9FGjDDmLc-8G"
      },
      "source": [
        "! wc -l dataset/video_category.dat"
      ],
      "execution_count": null,
      "outputs": []
    },
    {
      "cell_type": "code",
      "metadata": {
        "id": "jQzDrRbydFO2"
      },
      "source": [
        "file_path = \"dataset/video_category.dat\"\n",
        "youtube_vd_cat_schema=StructType([\n",
        "    StructField(\"category_id\", IntegerType(), True),\n",
        "    StructField(\"category_name\", StringType(), True),\n",
        "])\n",
        "\n",
        "\n",
        "youtube_video_cat = spark.read \\\n",
        " .option(\"delimiter\", \"|\") \\\n",
        " .schema(youtube_vd_cat_schema) \\\n",
        " .option(\"inferSchema\", \"True\") \\\n",
        " .csv(file_path)\n",
        "\n",
        "print (\"Total Records: \" + str( youtube_video_cat.count()))\n",
        "youtube_video_cat.show(5, truncate=True)"
      ],
      "execution_count": null,
      "outputs": []
    },
    {
      "cell_type": "markdown",
      "metadata": {
        "id": "MlV4n9Ecs1j-"
      },
      "source": [
        "### JOIN stg_youtube and video_category"
      ]
    },
    {
      "cell_type": "code",
      "metadata": {
        "id": "wmE5J-KwdT0a"
      },
      "source": [
        "df_stg_youtube.printSchema()"
      ],
      "execution_count": null,
      "outputs": []
    },
    {
      "cell_type": "code",
      "metadata": {
        "id": "fQaXmyTDdjdS"
      },
      "source": [
        "youtube = df_stg_youtube.join(youtube_video_cat, on=['category_id'], how='inner')"
      ],
      "execution_count": null,
      "outputs": []
    },
    {
      "cell_type": "code",
      "metadata": {
        "id": "SEipVDWEdxj-"
      },
      "source": [
        "df_stg_youtube.count()"
      ],
      "execution_count": null,
      "outputs": []
    },
    {
      "cell_type": "code",
      "metadata": {
        "id": "uEM_Gfgpd0Hu"
      },
      "source": [
        "youtube.count()"
      ],
      "execution_count": null,
      "outputs": []
    },
    {
      "cell_type": "code",
      "metadata": {
        "id": "DR_55Jl8d2c2"
      },
      "source": [
        "youtube.show(5)"
      ],
      "execution_count": null,
      "outputs": []
    },
    {
      "cell_type": "code",
      "metadata": {
        "id": "EBF1-AG7d-cq"
      },
      "source": [
        "print (\"Total Records: \" + str( youtube.count()))\n",
        "print(\"Number of Columns: \" + str(len(youtube.columns)))"
      ],
      "execution_count": null,
      "outputs": []
    },
    {
      "cell_type": "code",
      "metadata": {
        "id": "3Us4AbteeG9P"
      },
      "source": [
        "youtube.select(\"trending_date\", \"video_id\", \"channel_title\").show(5)"
      ],
      "execution_count": null,
      "outputs": []
    },
    {
      "cell_type": "code",
      "metadata": {
        "id": "heZdzHmReU6W"
      },
      "source": [
        "youtube.createOrReplaceTempView(\"youtube\")"
      ],
      "execution_count": null,
      "outputs": []
    },
    {
      "cell_type": "markdown",
      "metadata": {
        "id": "t-JxFBS_sQY1"
      },
      "source": [
        "### AGGREGATE"
      ]
    },
    {
      "cell_type": "code",
      "metadata": {
        "id": "WA-6XRTKf-6q"
      },
      "source": [
        "spark.sql(\"\\\n",
        "select video_id, max(title), max(category_name), count(*) num_days, max(views) views, max(likes) likes, max(dislikes) dislikes, max(comment_count) num_comment from youtube group by video_id limit 5\\\n",
        "\").show()"
      ],
      "execution_count": null,
      "outputs": []
    },
    {
      "cell_type": "code",
      "metadata": {
        "id": "4Ch3HyLLgM9S"
      },
      "source": [
        "video = spark.sql(\"\\\n",
        "select video_id, max(title) title, max(category_name) category, count(*) num_days, max(views) views, max(likes) likes, max(dislikes) dislikes, max(comment_count) num_comment from youtube group by video_id \\\n",
        "\")"
      ],
      "execution_count": null,
      "outputs": []
    },
    {
      "cell_type": "code",
      "metadata": {
        "id": "OuG9xoXYiZdx"
      },
      "source": [
        "video.createOrReplaceTempView(\"video\")"
      ],
      "execution_count": null,
      "outputs": []
    },
    {
      "cell_type": "markdown",
      "metadata": {
        "id": "4XRyGFmcfiOX"
      },
      "source": [
        "### Top 10 Most Viewed Video"
      ]
    },
    {
      "cell_type": "code",
      "metadata": {
        "id": "zvSp2VwBieId"
      },
      "source": [
        "spark.sql(\"\\\n",
        "...\n",
        "\").show(truncate = False)"
      ],
      "execution_count": null,
      "outputs": []
    },
    {
      "cell_type": "markdown",
      "metadata": {
        "id": "LeSkW_YljQ9R"
      },
      "source": [
        "### Num max days trending"
      ]
    },
    {
      "cell_type": "code",
      "metadata": {
        "id": "FIHViISLirt5"
      },
      "source": [
        "spark.sql(\"\\\n",
        "...\n",
        "\").show(truncate = False)"
      ],
      "execution_count": null,
      "outputs": []
    },
    {
      "cell_type": "markdown",
      "metadata": {
        "id": "qaKqqQF5jzmU"
      },
      "source": [
        "### Top 10 most commented video"
      ]
    },
    {
      "cell_type": "code",
      "metadata": {
        "id": "bwmHY4fLjMP9"
      },
      "source": [
        "spark.sql(\"\\\n",
        "select title, category, num_comment from video order by num_comment desc limit 10 \\\n",
        "\").show(truncate = False)"
      ],
      "execution_count": null,
      "outputs": []
    },
    {
      "cell_type": "code",
      "metadata": {
        "id": "AywsPPiinHgR"
      },
      "source": [
        "from pyspark.sql import functions as F\n",
        "from pyspark.sql.functions import col\n",
        "\n",
        "video \\\n",
        "  .orderBy('num_comment', ascending=False) \\\n",
        "  .select(col(\"title\"), col(\"category\"), col(\"num_comment\")) \\\n",
        "  .show(10, truncate = False)"
      ],
      "execution_count": null,
      "outputs": []
    },
    {
      "cell_type": "code",
      "metadata": {
        "id": "8ges5yntnZyO"
      },
      "source": [
        "video \\\n",
        "  .orderBy('num_comment', ascending=False) \\\n",
        "  .select(col(\"title\"), col(\"category\"), col(\"num_comment\")) \\\n",
        "  .toPandas().head(10)"
      ],
      "execution_count": null,
      "outputs": []
    },
    {
      "cell_type": "markdown",
      "metadata": {
        "id": "2wGjdwU9kZZf"
      },
      "source": [
        "### Top 5 most viewed video"
      ]
    },
    {
      "cell_type": "code",
      "metadata": {
        "id": "o-TchHkDkJlY"
      },
      "source": [
        "spark.sql(\"\\\n",
        "select category, sum(views) total_view, avg(views) avg_view, count(1) num_video from video \\\n",
        "group by category \\\n",
        "order by total_view desc limit 5 \\\n",
        "\").show(truncate = False)"
      ],
      "execution_count": null,
      "outputs": []
    },
    {
      "cell_type": "code",
      "metadata": {
        "id": "y_qEFOpqlEQl"
      },
      "source": [
        "video \\\n",
        "  .groupBy(\"category\") \\\n",
        "  .agg( \\\n",
        "      F.sum(col('views')).alias('total_views'), \\\n",
        "      F.avg(col('views')).alias('avg_views'), \\\n",
        "      F.count(F.lit(1)).alias('num_video') \\\n",
        "      ) \\\n",
        "  .orderBy('total_views', ascending=False).show()"
      ],
      "execution_count": null,
      "outputs": []
    },
    {
      "cell_type": "markdown",
      "metadata": {
        "id": "5N4xH2MmuxpA"
      },
      "source": [
        "### Data Visualization in Seaborn"
      ]
    },
    {
      "cell_type": "code",
      "metadata": {
        "id": "wb01GplWmchI"
      },
      "source": [
        "import matplotlib.pyplot as plt\n",
        "import seaborn as sns\n",
        "import numpy as np\n",
        "\n",
        "result_pd_df = spark.sql(\" \\\n",
        "select category, count(*) num_video from video \\\n",
        "group by category \\\n",
        "order by num_video desc \\\n",
        "\").toPandas()\n",
        "\n",
        "sns.set_style(\"whitegrid\")\n",
        "ax = sns.barplot(y='category',x='num_video', \\\n",
        "                 data=result_pd_df, \\\n",
        "                 orient='h' \\\n",
        "                )\n",
        "plt.xlabel(\"Number of Videos\")\n",
        "plt.ylabel(\"Categories\")\n",
        "plt.title(\"Catogories of trend videos\")"
      ],
      "execution_count": null,
      "outputs": []
    },
    {
      "cell_type": "code",
      "metadata": {
        "id": "xPDHJHvHveoC"
      },
      "source": [
        "df2 = spark.sql(\"SELECT category, sum(likes) as total_likes, \\\n",
        "                             sum(dislikes) as total_dislikes, \\\n",
        "                             (sum(likes)/sum(dislikes)) as ratio \\\n",
        "                      FROM video \\\n",
        "                      GROUP BY category \\\n",
        "                      ORDER BY ratio DESC\" \\\n",
        "                    )\n",
        "                    \n",
        "result_pd_df = df2.toPandas()\n",
        "result_pd_df.head(20)"
      ],
      "execution_count": null,
      "outputs": []
    },
    {
      "cell_type": "code",
      "metadata": {
        "id": "EpBQZ2A0wJvC"
      },
      "source": [
        "sns.set_style(\"whitegrid\")\n",
        "ax = sns.barplot(y='category',x='ratio', \\\n",
        "                 data=result_pd_df, \\\n",
        "                 orient='h' \\\n",
        "                )\n",
        "plt.xlabel(\"Ratio\")\n",
        "plt.ylabel(\"Categories\")\n",
        "plt.title(\"Ratio like vs dislike video\")"
      ],
      "execution_count": null,
      "outputs": []
    },
    {
      "cell_type": "code",
      "metadata": {
        "id": "cP4hr15NwRJG"
      },
      "source": [
        ""
      ],
      "execution_count": null,
      "outputs": []
    }
  ]
}